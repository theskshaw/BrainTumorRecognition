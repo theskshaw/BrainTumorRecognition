{
 "cells": [
  {
   "cell_type": "code",
   "execution_count": 3,
   "metadata": {},
   "outputs": [],
   "source": [
    "#Import necessary libraries and modules\n",
    "import random\n",
    "from keras.preprocessing.image import ImageDataGenerator,array_to_img,img_to_array,load_img\n",
    "import matplotlib.pyplot as plt\n",
    "import cv2\n",
    "from tensorflow import keras\n",
    "import os\n",
    "import numpy as np\n",
    "import matplotlib.pyplot as plt\n",
    "from kerastuner import RandomSearch\n",
    "from kerastuner.engine.hyperparameters import HyperParameters\n",
    "from tensorflow.keras.models import Model, load_model\n",
    "from tensorflow.keras.callbacks import TensorBoard, ModelCheckpoint\n",
    "from sklearn.metrics import f1_score\n",
    "import time\n",
    "from sklearn.model_selection import train_test_split"
   ]
  },
  {
   "cell_type": "code",
   "execution_count": 4,
   "metadata": {},
   "outputs": [],
   "source": [
    "#Global Variables\n",
    "img_data=[]\n",
    "IMG_SIZE=50\n",
    "X=[]\n",
    "Y=[]"
   ]
  },
  {
   "cell_type": "code",
   "execution_count": 5,
   "metadata": {},
   "outputs": [],
   "source": [
    "#Read Image\n",
    "directories=os.listdir('C:/PROJECT/augmented data')\n",
    "for folders in directories:\n",
    "  for files in os.listdir('C:/PROJECT/augmented data/'+folders):\n",
    "    img_temp=cv2.imread('C:/PROJECT/augmented data/'+folders+'/'+files,cv2.IMREAD_GRAYSCALE)\n",
    "    img_temp=cv2.resize(img_temp,(IMG_SIZE,IMG_SIZE))\n",
    "    img_data.append([img_temp,directories.index(folders)])"
   ]
  },
  {
   "cell_type": "code",
   "execution_count": 6,
   "metadata": {},
   "outputs": [],
   "source": [
    "random.shuffle(img_data)"
   ]
  },
  {
   "cell_type": "code",
   "execution_count": 7,
   "metadata": {},
   "outputs": [],
   "source": [
    "#Seperate X and Y\n",
    "for x,y in img_data:\n",
    "    X.append(x)\n",
    "    Y.append(y)\n"
   ]
  },
  {
   "cell_type": "code",
   "execution_count": 8,
   "metadata": {},
   "outputs": [],
   "source": [
    "#Reshape to 3D numpy\n",
    "X=np.array(X).reshape(-1,IMG_SIZE,IMG_SIZE,1)\n"
   ]
  },
  {
   "cell_type": "code",
   "execution_count": 9,
   "metadata": {},
   "outputs": [],
   "source": [
    "#Save data inorder to eliminate the hassle of creating it again\n",
    "np.save('X.npy',X)\n",
    "np.save('Y.npy',Y)"
   ]
  },
  {
   "cell_type": "code",
   "execution_count": 10,
   "metadata": {},
   "outputs": [],
   "source": [
    "#Seperate data to test, train and validate\n",
    "def split_data(x, y, test_size=0.2):    \n",
    "    x_train, x_test_val, y_train, y_test_val = train_test_split(X, y, test_size=test_size)\n",
    "    x_test, x_val, y_test, y_val = train_test_split(x_test_val, y_test_val, test_size=0.5)\n",
    "    \n",
    "    return x_train, y_train, x_val, y_val, x_test, y_test"
   ]
  },
  {
   "cell_type": "code",
   "execution_count": 11,
   "metadata": {},
   "outputs": [],
   "source": [
    "x_train,y_train,x_val,y_val,x_test,y_test=split_data(X,Y)"
   ]
  },
  {
   "cell_type": "code",
   "execution_count": 12,
   "metadata": {},
   "outputs": [],
   "source": [
    "def plot_metrics(history):\n",
    "    \n",
    "    train_loss = history['loss']\n",
    "    val_loss = history['val_loss']\n",
    "    train_acc = history['acc']\n",
    "    val_acc = history['val_acc']\n",
    "    \n",
    "    # Loss\n",
    "    plt.figure()\n",
    "    plt.plot(train_loss, label='Training Loss')\n",
    "    plt.plot(val_loss, label='Validation Loss')\n",
    "    plt.title('Loss')\n",
    "    plt.legend()\n",
    "    plt.show()\n",
    "    \n",
    "    # Accuracy\n",
    "    plt.figure()\n",
    "    plt.plot(train_acc, label='Training Accuracy')\n",
    "    plt.plot(val_acc, label='Validation Accuracy')\n",
    "    plt.title('Accuracy')\n",
    "    plt.legend()\n",
    "    plt.show()"
   ]
  },
  {
   "cell_type": "code",
   "execution_count": 16,
   "metadata": {},
   "outputs": [],
   "source": [
    "def build_model(hp):  \n",
    "  model = keras.Sequential([\n",
    "    keras.layers.Conv2D(\n",
    "        filters=hp.Int('conv_1_filter', min_value=32, max_value=128, step=16),\n",
    "        kernel_size=hp.Choice('conv_1_kernel', values = [3,5]),\n",
    "        activation='relu',\n",
    "        input_shape=(50,50,1)\n",
    "    ),\n",
    "    keras.layers.Conv2D(\n",
    "        filters=hp.Int('conv_2_filter', min_value=32, max_value=64, step=16),\n",
    "        kernel_size=hp.Choice('conv_2_kernel', values = [3,5]),\n",
    "        activation='relu'\n",
    "    ),\n",
    "    keras.layers.Conv2D(\n",
    "        filters=hp.Int('conv_2_filter', min_value=32, max_value=32, step=16),\n",
    "        kernel_size=hp.Choice('conv_2_kernel', values = [3,5]),\n",
    "        activation='relu'\n",
    "    ),\n",
    "    keras.layers.Flatten(),\n",
    "    keras.layers.Dense(\n",
    "        units=hp.Int('dense_1_units', min_value=32, max_value=128, step=16),\n",
    "        activation='relu'\n",
    "    ),\n",
    "    keras.layers.Dense(2, activation='softmax')\n",
    "  ])\n",
    "  \n",
    "  model.compile(optimizer=keras.optimizers.Adam(hp.Choice('learning_rate', values=[1e-2, 1e-3])),\n",
    "              loss='sparse_categorical_crossentropy',\n",
    "              metrics=['accuracy'])\n",
    "  \n",
    "  return model"
   ]
  },
  {
   "cell_type": "code",
   "execution_count": 17,
   "metadata": {},
   "outputs": [],
   "source": [
    "tuner_search=RandomSearch(build_model,\n",
    "                          objective='val_acc',\n",
    "                          max_trials=5,directory='output',project_name=\"BTC\")"
   ]
  },
  {
   "cell_type": "code",
   "execution_count": 18,
   "metadata": {},
   "outputs": [
    {
     "name": "stdout",
     "output_type": "stream",
     "text": [
      "Train on 1486 samples, validate on 166 samples\n",
      "Epoch 1/3\n",
      "1486/1486 [==============================] - ETA: 36s - loss: 11.3184 - acc: 0.562 - ETA: 33s - loss: 157479.5030 - acc: 0.515 - ETA: 31s - loss: 104996.8020 - acc: 0.447 - ETA: 30s - loss: 86027.3710 - acc: 0.445 - ETA: 30s - loss: 69393.3169 - acc: 0.45 - ETA: 30s - loss: 57840.2005 - acc: 0.46 - ETA: 29s - loss: 49577.9366 - acc: 0.45 - ETA: 28s - loss: 43380.8454 - acc: 0.44 - ETA: 27s - loss: 38560.8486 - acc: 0.45 - ETA: 26s - loss: 34704.8417 - acc: 0.46 - ETA: 26s - loss: 31549.9212 - acc: 0.46 - ETA: 25s - loss: 28920.8182 - acc: 0.47 - ETA: 24s - loss: 26696.1915 - acc: 0.49 - ETA: 23s - loss: 24789.3709 - acc: 0.48 - ETA: 22s - loss: 23136.7914 - acc: 0.49 - ETA: 22s - loss: 21690.7863 - acc: 0.49 - ETA: 21s - loss: 20414.8989 - acc: 0.49 - ETA: 21s - loss: 19280.7768 - acc: 0.49 - ETA: 20s - loss: 18266.0354 - acc: 0.49 - ETA: 19s - loss: 17352.7699 - acc: 0.49 - ETA: 18s - loss: 16526.4796 - acc: 0.49 - ETA: 18s - loss: 15775.3077 - acc: 0.49 - ETA: 17s - loss: 15089.4541 - acc: 0.50 - ETA: 16s - loss: 14460.7568 - acc: 0.50 - ETA: 15s - loss: 13882.3546 - acc: 0.49 - ETA: 15s - loss: 13348.4457 - acc: 0.49 - ETA: 14s - loss: 12854.0840 - acc: 0.49 - ETA: 13s - loss: 12395.0358 - acc: 0.49 - ETA: 12s - loss: 11967.6448 - acc: 0.49 - ETA: 12s - loss: 11568.7478 - acc: 0.48 - ETA: 11s - loss: 11195.5846 - acc: 0.49 - ETA: 10s - loss: 10845.7443 - acc: 0.49 - ETA: 9s - loss: 10517.1070 - acc: 0.4886 - ETA: 9s - loss: 10207.8006 - acc: 0.489 - ETA: 8s - loss: 9916.1691 - acc: 0.490 - ETA: 7s - loss: 9640.7394 - acc: 0.48 - ETA: 7s - loss: 9380.1972 - acc: 0.49 - ETA: 6s - loss: 9133.3681 - acc: 0.49 - ETA: 5s - loss: 8899.1969 - acc: 0.49 - ETA: 4s - loss: 8676.7343 - acc: 0.49 - ETA: 4s - loss: 8465.1240 - acc: 0.49 - ETA: 3s - loss: 8263.5895 - acc: 0.49 - ETA: 2s - loss: 8071.4289 - acc: 0.49 - ETA: 1s - loss: 7888.0029 - acc: 0.50 - ETA: 1s - loss: 7712.7295 - acc: 0.50 - ETA: 0s - loss: 7545.0763 - acc: 0.50 - 37s 25ms/sample - loss: 7473.9987 - acc: 0.5020 - val_loss: 0.6838 - val_acc: 0.5904\n",
      "Epoch 2/3\n",
      "1486/1486 [==============================] - ETA: 33s - loss: 0.6941 - acc: 0.50 - ETA: 31s - loss: 0.6986 - acc: 0.46 - ETA: 30s - loss: 0.6984 - acc: 0.46 - ETA: 30s - loss: 0.6913 - acc: 0.52 - ETA: 30s - loss: 0.6890 - acc: 0.53 - ETA: 29s - loss: 0.6910 - acc: 0.52 - ETA: 29s - loss: 0.6941 - acc: 0.49 - ETA: 29s - loss: 0.6924 - acc: 0.51 - ETA: 28s - loss: 0.6922 - acc: 0.51 - ETA: 27s - loss: 0.6917 - acc: 0.51 - ETA: 26s - loss: 0.6915 - acc: 0.51 - ETA: 25s - loss: 0.6900 - acc: 0.52 - ETA: 24s - loss: 0.6888 - acc: 0.53 - ETA: 24s - loss: 0.6901 - acc: 0.52 - ETA: 23s - loss: 0.6890 - acc: 0.52 - ETA: 22s - loss: 0.6892 - acc: 0.52 - ETA: 22s - loss: 0.6894 - acc: 0.52 - ETA: 21s - loss: 0.6890 - acc: 0.52 - ETA: 20s - loss: 0.6903 - acc: 0.51 - ETA: 19s - loss: 0.6901 - acc: 0.52 - ETA: 19s - loss: 0.6905 - acc: 0.51 - ETA: 18s - loss: 0.6896 - acc: 0.51 - ETA: 17s - loss: 0.6898 - acc: 0.51 - ETA: 16s - loss: 0.6895 - acc: 0.51 - ETA: 16s - loss: 0.6894 - acc: 0.51 - ETA: 15s - loss: 0.6903 - acc: 0.52 - ETA: 14s - loss: 0.6906 - acc: 0.51 - ETA: 13s - loss: 0.6901 - acc: 0.51 - ETA: 13s - loss: 0.6905 - acc: 0.51 - ETA: 12s - loss: 0.6895 - acc: 0.52 - ETA: 11s - loss: 0.6901 - acc: 0.52 - ETA: 10s - loss: 0.6888 - acc: 0.52 - ETA: 10s - loss: 0.6879 - acc: 0.52 - ETA: 9s - loss: 0.6868 - acc: 0.5248 - ETA: 8s - loss: 0.6865 - acc: 0.524 - ETA: 7s - loss: 0.6848 - acc: 0.526 - ETA: 7s - loss: 0.6844 - acc: 0.530 - ETA: 6s - loss: 0.6832 - acc: 0.532 - ETA: 5s - loss: 0.6845 - acc: 0.530 - ETA: 4s - loss: 0.6829 - acc: 0.533 - ETA: 4s - loss: 0.6811 - acc: 0.536 - ETA: 3s - loss: 0.6792 - acc: 0.539 - ETA: 2s - loss: 0.6786 - acc: 0.542 - ETA: 1s - loss: 0.6808 - acc: 0.544 - ETA: 1s - loss: 0.6783 - acc: 0.547 - ETA: 0s - loss: 0.6763 - acc: 0.552 - 36s 24ms/sample - loss: 0.6746 - acc: 0.5552 - val_loss: 0.6168 - val_acc: 0.6988\n",
      "Epoch 3/3\n",
      "1486/1486 [==============================] - ETA: 31s - loss: 0.4846 - acc: 0.78 - ETA: 30s - loss: 0.5366 - acc: 0.78 - ETA: 29s - loss: 0.5534 - acc: 0.75 - ETA: 29s - loss: 0.5361 - acc: 0.75 - ETA: 28s - loss: 0.5239 - acc: 0.75 - ETA: 28s - loss: 0.5066 - acc: 0.76 - ETA: 27s - loss: 0.4985 - acc: 0.75 - ETA: 26s - loss: 0.4874 - acc: 0.76 - ETA: 26s - loss: 0.4900 - acc: 0.76 - ETA: 25s - loss: 0.4957 - acc: 0.77 - ETA: 24s - loss: 0.4997 - acc: 0.76 - ETA: 24s - loss: 0.5121 - acc: 0.76 - ETA: 23s - loss: 0.5145 - acc: 0.76 - ETA: 22s - loss: 0.5142 - acc: 0.76 - ETA: 22s - loss: 0.5221 - acc: 0.75 - ETA: 21s - loss: 0.5370 - acc: 0.74 - ETA: 20s - loss: 0.5312 - acc: 0.75 - ETA: 20s - loss: 0.5283 - acc: 0.75 - ETA: 19s - loss: 0.5321 - acc: 0.75 - ETA: 18s - loss: 0.5345 - acc: 0.74 - ETA: 18s - loss: 0.5354 - acc: 0.75 - ETA: 17s - loss: 0.5415 - acc: 0.74 - ETA: 16s - loss: 0.5386 - acc: 0.74 - ETA: 15s - loss: 0.5396 - acc: 0.74 - ETA: 15s - loss: 0.5371 - acc: 0.74 - ETA: 14s - loss: 0.5332 - acc: 0.75 - ETA: 13s - loss: 0.5365 - acc: 0.75 - ETA: 13s - loss: 0.5315 - acc: 0.75 - ETA: 12s - loss: 0.5372 - acc: 0.75 - ETA: 11s - loss: 0.5328 - acc: 0.75 - ETA: 10s - loss: 0.5400 - acc: 0.74 - ETA: 10s - loss: 0.5370 - acc: 0.74 - ETA: 9s - loss: 0.5324 - acc: 0.7500 - ETA: 8s - loss: 0.5291 - acc: 0.751 - ETA: 8s - loss: 0.5252 - acc: 0.754 - ETA: 7s - loss: 0.5330 - acc: 0.750 - ETA: 6s - loss: 0.5348 - acc: 0.750 - ETA: 6s - loss: 0.5364 - acc: 0.750 - ETA: 5s - loss: 0.5306 - acc: 0.754 - ETA: 4s - loss: 0.5282 - acc: 0.753 - ETA: 4s - loss: 0.5259 - acc: 0.755 - ETA: 3s - loss: 0.5239 - acc: 0.756 - ETA: 2s - loss: 0.5236 - acc: 0.755 - ETA: 1s - loss: 0.5275 - acc: 0.751 - ETA: 1s - loss: 0.5275 - acc: 0.750 - ETA: 0s - loss: 0.5256 - acc: 0.750 - 36s 24ms/sample - loss: 0.5291 - acc: 0.7497 - val_loss: 0.5902 - val_acc: 0.6747\n"
     ]
    },
    {
     "data": {
      "text/html": [
       "<span style=\"color:#4527A0\"><h1 style=\"font-size:18px\">Trial complete</h1></span>"
      ],
      "text/plain": [
       "<IPython.core.display.HTML object>"
      ]
     },
     "metadata": {},
     "output_type": "display_data"
    },
    {
     "data": {
      "text/html": [
       "<span style=\"color:#4527A0\"><h1 style=\"font-size:18px\">Trial summary</h1></span>"
      ],
      "text/plain": [
       "<IPython.core.display.HTML object>"
      ]
     },
     "metadata": {},
     "output_type": "display_data"
    },
    {
     "data": {
      "text/html": [
       "<span style=\"color:cyan\"> |-Trial ID: 1be4aeb7a84d1a55515e0dd5351257e7</span>"
      ],
      "text/plain": [
       "<IPython.core.display.HTML object>"
      ]
     },
     "metadata": {},
     "output_type": "display_data"
    },
    {
     "data": {
      "text/html": [
       "<span style=\"color:cyan\"> |-Score: 0.6987951993942261</span>"
      ],
      "text/plain": [
       "<IPython.core.display.HTML object>"
      ]
     },
     "metadata": {},
     "output_type": "display_data"
    },
    {
     "data": {
      "text/html": [
       "<span style=\"color:cyan\"> |-Best step: 0</span>"
      ],
      "text/plain": [
       "<IPython.core.display.HTML object>"
      ]
     },
     "metadata": {},
     "output_type": "display_data"
    },
    {
     "data": {
      "text/html": [
       "<span style=\"color:#7E57C2\"><h2 style=\"font-size:16px\">Hyperparameters:</h2></span>"
      ],
      "text/plain": [
       "<IPython.core.display.HTML object>"
      ]
     },
     "metadata": {},
     "output_type": "display_data"
    },
    {
     "data": {
      "text/html": [
       "<span style=\"color:cyan\"> |-conv_1_filter: 32</span>"
      ],
      "text/plain": [
       "<IPython.core.display.HTML object>"
      ]
     },
     "metadata": {},
     "output_type": "display_data"
    },
    {
     "data": {
      "text/html": [
       "<span style=\"color:blue\"> |-conv_1_kernel: 3</span>"
      ],
      "text/plain": [
       "<IPython.core.display.HTML object>"
      ]
     },
     "metadata": {},
     "output_type": "display_data"
    },
    {
     "data": {
      "text/html": [
       "<span style=\"color:cyan\"> |-conv_2_filter: 64</span>"
      ],
      "text/plain": [
       "<IPython.core.display.HTML object>"
      ]
     },
     "metadata": {},
     "output_type": "display_data"
    },
    {
     "data": {
      "text/html": [
       "<span style=\"color:blue\"> |-conv_2_kernel: 5</span>"
      ],
      "text/plain": [
       "<IPython.core.display.HTML object>"
      ]
     },
     "metadata": {},
     "output_type": "display_data"
    },
    {
     "data": {
      "text/html": [
       "<span style=\"color:cyan\"> |-dense_1_units: 80</span>"
      ],
      "text/plain": [
       "<IPython.core.display.HTML object>"
      ]
     },
     "metadata": {},
     "output_type": "display_data"
    },
    {
     "data": {
      "text/html": [
       "<span style=\"color:blue\"> |-learning_rate: 0.01</span>"
      ],
      "text/plain": [
       "<IPython.core.display.HTML object>"
      ]
     },
     "metadata": {},
     "output_type": "display_data"
    },
    {
     "name": "stdout",
     "output_type": "stream",
     "text": [
      "Train on 1486 samples, validate on 166 samples\n",
      "Epoch 1/3\n",
      "1486/1486 [==============================] - ETA: 23s - loss: 9.2184 - acc: 0.62 - ETA: 21s - loss: 211.5732 - acc: 0.56 - ETA: 21s - loss: 156.2264 - acc: 0.55 - ETA: 19s - loss: 123.6080 - acc: 0.57 - ETA: 18s - loss: 104.6080 - acc: 0.55 - ETA: 18s - loss: 88.2401 - acc: 0.5573 - ETA: 17s - loss: 75.7114 - acc: 0.571 - ETA: 16s - loss: 67.3882 - acc: 0.550 - ETA: 16s - loss: 60.2043 - acc: 0.531 - ETA: 15s - loss: 54.2697 - acc: 0.531 - ETA: 15s - loss: 49.4000 - acc: 0.525 - ETA: 14s - loss: 45.3402 - acc: 0.533 - ETA: 14s - loss: 41.9040 - acc: 0.540 - ETA: 13s - loss: 38.9548 - acc: 0.555 - ETA: 13s - loss: 36.4023 - acc: 0.558 - ETA: 12s - loss: 34.1635 - acc: 0.568 - ETA: 12s - loss: 32.1937 - acc: 0.569 - ETA: 12s - loss: 30.4392 - acc: 0.574 - ETA: 11s - loss: 28.8735 - acc: 0.577 - ETA: 11s - loss: 27.4610 - acc: 0.584 - ETA: 10s - loss: 26.1831 - acc: 0.590 - ETA: 10s - loss: 25.0228 - acc: 0.596 - ETA: 9s - loss: 23.9620 - acc: 0.599 - ETA: 9s - loss: 22.9923 - acc: 0.60 - ETA: 9s - loss: 22.0985 - acc: 0.60 - ETA: 8s - loss: 21.2712 - acc: 0.60 - ETA: 8s - loss: 20.5058 - acc: 0.61 - ETA: 7s - loss: 19.7961 - acc: 0.61 - ETA: 7s - loss: 19.1362 - acc: 0.61 - ETA: 6s - loss: 18.5179 - acc: 0.61 - ETA: 6s - loss: 17.9397 - acc: 0.61 - ETA: 6s - loss: 17.4021 - acc: 0.61 - ETA: 5s - loss: 16.8942 - acc: 0.61 - ETA: 5s - loss: 16.4141 - acc: 0.62 - ETA: 4s - loss: 15.9633 - acc: 0.62 - ETA: 4s - loss: 15.5362 - acc: 0.62 - ETA: 3s - loss: 15.1320 - acc: 0.62 - ETA: 3s - loss: 14.7474 - acc: 0.63 - ETA: 3s - loss: 14.3894 - acc: 0.63 - ETA: 2s - loss: 14.0448 - acc: 0.63 - ETA: 2s - loss: 13.7202 - acc: 0.63 - ETA: 1s - loss: 13.4096 - acc: 0.63 - ETA: 1s - loss: 13.1123 - acc: 0.63 - ETA: 1s - loss: 12.8292 - acc: 0.63 - ETA: 0s - loss: 12.5562 - acc: 0.63 - ETA: 0s - loss: 12.2952 - acc: 0.63 - 20s 14ms/sample - loss: 12.1844 - acc: 0.6386 - val_loss: 0.9151 - val_acc: 0.5301\n",
      "Epoch 2/3\n",
      "1486/1486 [==============================] - ETA: 19s - loss: 0.6277 - acc: 0.65 - ETA: 18s - loss: 0.6756 - acc: 0.62 - ETA: 18s - loss: 0.6408 - acc: 0.65 - ETA: 17s - loss: 0.6184 - acc: 0.66 - ETA: 17s - loss: 0.6113 - acc: 0.67 - ETA: 16s - loss: 0.6079 - acc: 0.67 - ETA: 16s - loss: 0.6002 - acc: 0.67 - ETA: 15s - loss: 0.6008 - acc: 0.67 - ETA: 15s - loss: 0.6037 - acc: 0.67 - ETA: 15s - loss: 0.6088 - acc: 0.68 - ETA: 14s - loss: 0.6039 - acc: 0.69 - ETA: 14s - loss: 0.6056 - acc: 0.69 - ETA: 13s - loss: 0.6059 - acc: 0.70 - ETA: 13s - loss: 0.6060 - acc: 0.70 - ETA: 12s - loss: 0.6031 - acc: 0.70 - ETA: 12s - loss: 0.5971 - acc: 0.71 - ETA: 12s - loss: 0.5950 - acc: 0.71 - ETA: 11s - loss: 0.5885 - acc: 0.72 - ETA: 11s - loss: 0.5828 - acc: 0.72 - ETA: 10s - loss: 0.5786 - acc: 0.72 - ETA: 10s - loss: 0.5824 - acc: 0.72 - ETA: 10s - loss: 0.5845 - acc: 0.72 - ETA: 9s - loss: 0.5869 - acc: 0.7242 - ETA: 9s - loss: 0.5822 - acc: 0.726 - ETA: 8s - loss: 0.5822 - acc: 0.726 - ETA: 8s - loss: 0.5838 - acc: 0.722 - ETA: 8s - loss: 0.5868 - acc: 0.719 - ETA: 7s - loss: 0.5844 - acc: 0.719 - ETA: 7s - loss: 0.5876 - acc: 0.714 - ETA: 6s - loss: 0.5896 - acc: 0.710 - ETA: 6s - loss: 0.5917 - acc: 0.710 - ETA: 6s - loss: 0.5957 - acc: 0.708 - ETA: 5s - loss: 0.5943 - acc: 0.707 - ETA: 5s - loss: 0.5953 - acc: 0.708 - ETA: 4s - loss: 0.5939 - acc: 0.710 - ETA: 4s - loss: 0.5962 - acc: 0.708 - ETA: 3s - loss: 0.5966 - acc: 0.707 - ETA: 3s - loss: 0.5963 - acc: 0.706 - ETA: 3s - loss: 0.5952 - acc: 0.707 - ETA: 2s - loss: 0.5950 - acc: 0.707 - ETA: 2s - loss: 0.5946 - acc: 0.708 - ETA: 1s - loss: 0.5949 - acc: 0.709 - ETA: 1s - loss: 0.5959 - acc: 0.710 - ETA: 1s - loss: 0.5941 - acc: 0.713 - ETA: 0s - loss: 0.5951 - acc: 0.711 - ETA: 0s - loss: 0.5928 - acc: 0.711 - 20s 14ms/sample - loss: 0.5928 - acc: 0.7113 - val_loss: 0.6298 - val_acc: 0.7229\n",
      "Epoch 3/3\n",
      "1486/1486 [==============================] - ETA: 18s - loss: 0.6180 - acc: 0.68 - ETA: 18s - loss: 0.5746 - acc: 0.73 - ETA: 17s - loss: 0.5489 - acc: 0.73 - ETA: 17s - loss: 0.5628 - acc: 0.73 - ETA: 16s - loss: 0.5510 - acc: 0.72 - ETA: 16s - loss: 0.5538 - acc: 0.70 - ETA: 15s - loss: 0.5544 - acc: 0.70 - ETA: 15s - loss: 0.5541 - acc: 0.70 - ETA: 15s - loss: 0.5576 - acc: 0.70 - ETA: 14s - loss: 0.5551 - acc: 0.70 - ETA: 14s - loss: 0.5506 - acc: 0.71 - ETA: 14s - loss: 0.5536 - acc: 0.71 - ETA: 13s - loss: 0.5516 - acc: 0.72 - ETA: 13s - loss: 0.5565 - acc: 0.72 - ETA: 12s - loss: 0.5564 - acc: 0.72 - ETA: 12s - loss: 0.5523 - acc: 0.72 - ETA: 12s - loss: 0.5589 - acc: 0.72 - ETA: 11s - loss: 0.5620 - acc: 0.72 - ETA: 11s - loss: 0.5595 - acc: 0.71 - ETA: 10s - loss: 0.5590 - acc: 0.72 - ETA: 10s - loss: 0.5646 - acc: 0.72 - ETA: 10s - loss: 0.5641 - acc: 0.72 - ETA: 9s - loss: 0.5627 - acc: 0.7215 - ETA: 9s - loss: 0.5629 - acc: 0.725 - ETA: 8s - loss: 0.5613 - acc: 0.726 - ETA: 8s - loss: 0.5561 - acc: 0.728 - ETA: 7s - loss: 0.5598 - acc: 0.728 - ETA: 7s - loss: 0.5583 - acc: 0.733 - ETA: 7s - loss: 0.5596 - acc: 0.731 - ETA: 6s - loss: 0.5557 - acc: 0.735 - ETA: 6s - loss: 0.5536 - acc: 0.734 - ETA: 5s - loss: 0.5512 - acc: 0.736 - ETA: 5s - loss: 0.5477 - acc: 0.737 - ETA: 5s - loss: 0.5460 - acc: 0.740 - ETA: 4s - loss: 0.5447 - acc: 0.741 - ETA: 4s - loss: 0.5460 - acc: 0.740 - ETA: 3s - loss: 0.5439 - acc: 0.740 - ETA: 3s - loss: 0.5438 - acc: 0.738 - ETA: 3s - loss: 0.5410 - acc: 0.740 - ETA: 2s - loss: 0.5405 - acc: 0.740 - ETA: 2s - loss: 0.5378 - acc: 0.742 - ETA: 1s - loss: 0.5398 - acc: 0.744 - ETA: 1s - loss: 0.5430 - acc: 0.742 - ETA: 1s - loss: 0.5411 - acc: 0.742 - ETA: 0s - loss: 0.5423 - acc: 0.740 - ETA: 0s - loss: 0.5450 - acc: 0.741 - 20s 13ms/sample - loss: 0.5462 - acc: 0.7416 - val_loss: 0.6821 - val_acc: 0.7349\n"
     ]
    },
    {
     "data": {
      "text/html": [
       "<span style=\"color:#4527A0\"><h1 style=\"font-size:18px\">Trial complete</h1></span>"
      ],
      "text/plain": [
       "<IPython.core.display.HTML object>"
      ]
     },
     "metadata": {},
     "output_type": "display_data"
    },
    {
     "data": {
      "text/html": [
       "<span style=\"color:#4527A0\"><h1 style=\"font-size:18px\">Trial summary</h1></span>"
      ],
      "text/plain": [
       "<IPython.core.display.HTML object>"
      ]
     },
     "metadata": {},
     "output_type": "display_data"
    },
    {
     "data": {
      "text/html": [
       "<span style=\"color:cyan\"> |-Trial ID: bfb0024d89a704e461ff8207ac1ccdb6</span>"
      ],
      "text/plain": [
       "<IPython.core.display.HTML object>"
      ]
     },
     "metadata": {},
     "output_type": "display_data"
    },
    {
     "data": {
      "text/html": [
       "<span style=\"color:cyan\"> |-Score: 0.7349397540092468</span>"
      ],
      "text/plain": [
       "<IPython.core.display.HTML object>"
      ]
     },
     "metadata": {},
     "output_type": "display_data"
    },
    {
     "data": {
      "text/html": [
       "<span style=\"color:cyan\"> |-Best step: 0</span>"
      ],
      "text/plain": [
       "<IPython.core.display.HTML object>"
      ]
     },
     "metadata": {},
     "output_type": "display_data"
    },
    {
     "data": {
      "text/html": [
       "<span style=\"color:#7E57C2\"><h2 style=\"font-size:16px\">Hyperparameters:</h2></span>"
      ],
      "text/plain": [
       "<IPython.core.display.HTML object>"
      ]
     },
     "metadata": {},
     "output_type": "display_data"
    },
    {
     "data": {
      "text/html": [
       "<span style=\"color:cyan\"> |-conv_1_filter: 80</span>"
      ],
      "text/plain": [
       "<IPython.core.display.HTML object>"
      ]
     },
     "metadata": {},
     "output_type": "display_data"
    },
    {
     "data": {
      "text/html": [
       "<span style=\"color:blue\"> |-conv_1_kernel: 5</span>"
      ],
      "text/plain": [
       "<IPython.core.display.HTML object>"
      ]
     },
     "metadata": {},
     "output_type": "display_data"
    },
    {
     "data": {
      "text/html": [
       "<span style=\"color:cyan\"> |-conv_2_filter: 48</span>"
      ],
      "text/plain": [
       "<IPython.core.display.HTML object>"
      ]
     },
     "metadata": {},
     "output_type": "display_data"
    },
    {
     "data": {
      "text/html": [
       "<span style=\"color:blue\"> |-conv_2_kernel: 3</span>"
      ],
      "text/plain": [
       "<IPython.core.display.HTML object>"
      ]
     },
     "metadata": {},
     "output_type": "display_data"
    },
    {
     "data": {
      "text/html": [
       "<span style=\"color:cyan\"> |-dense_1_units: 80</span>"
      ],
      "text/plain": [
       "<IPython.core.display.HTML object>"
      ]
     },
     "metadata": {},
     "output_type": "display_data"
    },
    {
     "data": {
      "text/html": [
       "<span style=\"color:blue\"> |-learning_rate: 0.001</span>"
      ],
      "text/plain": [
       "<IPython.core.display.HTML object>"
      ]
     },
     "metadata": {},
     "output_type": "display_data"
    },
    {
     "name": "stdout",
     "output_type": "stream",
     "text": [
      "Train on 1486 samples, validate on 166 samples\n",
      "Epoch 1/3\n",
      "1486/1486 [==============================] - ETA: 52s - loss: 2.6524 - acc: 0.56 - ETA: 49s - loss: 206.6124 - acc: 0.50 - ETA: 47s - loss: 138.1707 - acc: 0.56 - ETA: 46s - loss: 109.2304 - acc: 0.56 - ETA: 45s - loss: 88.6808 - acc: 0.5813 - ETA: 44s - loss: 74.4817 - acc: 0.583 - ETA: 43s - loss: 63.9959 - acc: 0.575 - ETA: 42s - loss: 56.0825 - acc: 0.574 - ETA: 41s - loss: 49.9360 - acc: 0.566 - ETA: 41s - loss: 45.0142 - acc: 0.559 - ETA: 40s - loss: 40.9924 - acc: 0.556 - ETA: 39s - loss: 37.6334 - acc: 0.570 - ETA: 38s - loss: 34.7936 - acc: 0.572 - ETA: 37s - loss: 32.3550 - acc: 0.575 - ETA: 36s - loss: 30.2408 - acc: 0.583 - ETA: 34s - loss: 28.3998 - acc: 0.584 - ETA: 33s - loss: 26.7712 - acc: 0.584 - ETA: 32s - loss: 25.3198 - acc: 0.588 - ETA: 31s - loss: 24.0199 - acc: 0.592 - ETA: 30s - loss: 22.8594 - acc: 0.589 - ETA: 29s - loss: 21.8004 - acc: 0.590 - ETA: 27s - loss: 20.8400 - acc: 0.590 - ETA: 26s - loss: 19.9623 - acc: 0.596 - ETA: 25s - loss: 19.1596 - acc: 0.596 - ETA: 24s - loss: 18.4207 - acc: 0.600 - ETA: 23s - loss: 17.7374 - acc: 0.598 - ETA: 22s - loss: 17.1047 - acc: 0.601 - ETA: 21s - loss: 16.5199 - acc: 0.601 - ETA: 20s - loss: 15.9730 - acc: 0.603 - ETA: 18s - loss: 15.4633 - acc: 0.599 - ETA: 17s - loss: 14.9877 - acc: 0.600 - ETA: 16s - loss: 14.5385 - acc: 0.606 - ETA: 15s - loss: 14.1167 - acc: 0.608 - ETA: 14s - loss: 13.7197 - acc: 0.611 - ETA: 13s - loss: 13.3456 - acc: 0.614 - ETA: 11s - loss: 12.9902 - acc: 0.614 - ETA: 10s - loss: 12.6626 - acc: 0.616 - ETA: 9s - loss: 12.3491 - acc: 0.617 - ETA: 8s - loss: 12.0560 - acc: 0.61 - ETA: 7s - loss: 11.7678 - acc: 0.62 - ETA: 6s - loss: 11.4949 - acc: 0.62 - ETA: 5s - loss: 11.2360 - acc: 0.62 - ETA: 3s - loss: 10.9903 - acc: 0.62 - ETA: 2s - loss: 10.7536 - acc: 0.63 - ETA: 1s - loss: 10.5308 - acc: 0.62 - ETA: 0s - loss: 10.3150 - acc: 0.63 - 55s 37ms/sample - loss: 10.2230 - acc: 0.6353 - val_loss: 0.6793 - val_acc: 0.6687\n",
      "Epoch 2/3\n",
      "1486/1486 [==============================] - ETA: 49s - loss: 0.5646 - acc: 0.65 - ETA: 51s - loss: 0.5746 - acc: 0.68 - ETA: 49s - loss: 0.6177 - acc: 0.64 - ETA: 52s - loss: 0.6290 - acc: 0.67 - ETA: 50s - loss: 0.6404 - acc: 0.66 - ETA: 49s - loss: 0.6268 - acc: 0.67 - ETA: 47s - loss: 0.6332 - acc: 0.66 - ETA: 45s - loss: 0.6303 - acc: 0.66 - ETA: 44s - loss: 0.6172 - acc: 0.68 - ETA: 42s - loss: 0.6131 - acc: 0.68 - ETA: 42s - loss: 0.6066 - acc: 0.68 - ETA: 41s - loss: 0.6056 - acc: 0.68 - ETA: 39s - loss: 0.6015 - acc: 0.68 - ETA: 38s - loss: 0.6039 - acc: 0.68 - ETA: 37s - loss: 0.5981 - acc: 0.68 - ETA: 36s - loss: 0.5960 - acc: 0.69 - ETA: 34s - loss: 0.6046 - acc: 0.68 - ETA: 33s - loss: 0.6027 - acc: 0.68 - ETA: 32s - loss: 0.6099 - acc: 0.68 - ETA: 30s - loss: 0.6180 - acc: 0.67 - ETA: 29s - loss: 0.6171 - acc: 0.67 - ETA: 28s - loss: 0.6177 - acc: 0.67 - ETA: 27s - loss: 0.6154 - acc: 0.67 - ETA: 25s - loss: 0.6154 - acc: 0.67 - ETA: 24s - loss: 0.6156 - acc: 0.66 - ETA: 23s - loss: 0.6161 - acc: 0.67 - ETA: 22s - loss: 0.6199 - acc: 0.66 - ETA: 21s - loss: 0.6180 - acc: 0.66 - ETA: 19s - loss: 0.6201 - acc: 0.66 - ETA: 18s - loss: 0.6206 - acc: 0.66 - ETA: 17s - loss: 0.6212 - acc: 0.66 - ETA: 16s - loss: 0.6204 - acc: 0.65 - ETA: 15s - loss: 0.6160 - acc: 0.66 - ETA: 14s - loss: 0.6170 - acc: 0.65 - ETA: 13s - loss: 0.6171 - acc: 0.66 - ETA: 11s - loss: 0.6195 - acc: 0.66 - ETA: 10s - loss: 0.6223 - acc: 0.66 - ETA: 9s - loss: 0.6229 - acc: 0.6612 - ETA: 8s - loss: 0.6236 - acc: 0.661 - ETA: 7s - loss: 0.6255 - acc: 0.657 - ETA: 6s - loss: 0.6249 - acc: 0.657 - ETA: 5s - loss: 0.6254 - acc: 0.654 - ETA: 4s - loss: 0.6259 - acc: 0.656 - ETA: 2s - loss: 0.6263 - acc: 0.654 - ETA: 1s - loss: 0.6263 - acc: 0.652 - ETA: 0s - loss: 0.6264 - acc: 0.652 - 56s 38ms/sample - loss: 0.6247 - acc: 0.6541 - val_loss: 0.6749 - val_acc: 0.6506\n",
      "Epoch 3/3\n",
      "1486/1486 [==============================] - ETA: 56s - loss: 0.6928 - acc: 0.59 - ETA: 56s - loss: 0.6089 - acc: 0.71 - ETA: 55s - loss: 0.6264 - acc: 0.72 - ETA: 53s - loss: 0.6311 - acc: 0.71 - ETA: 55s - loss: 0.6163 - acc: 0.71 - ETA: 54s - loss: 0.6041 - acc: 0.71 - ETA: 52s - loss: 0.6085 - acc: 0.70 - ETA: 51s - loss: 0.6113 - acc: 0.70 - ETA: 49s - loss: 0.6004 - acc: 0.71 - ETA: 48s - loss: 0.6071 - acc: 0.71 - ETA: 46s - loss: 0.5913 - acc: 0.73 - ETA: 45s - loss: 0.5795 - acc: 0.73 - ETA: 43s - loss: 0.5807 - acc: 0.72 - ETA: 42s - loss: 0.5834 - acc: 0.71 - ETA: 41s - loss: 0.5773 - acc: 0.72 - ETA: 39s - loss: 0.5751 - acc: 0.72 - ETA: 37s - loss: 0.5628 - acc: 0.73 - ETA: 36s - loss: 0.5571 - acc: 0.73 - ETA: 34s - loss: 0.5679 - acc: 0.73 - ETA: 33s - loss: 0.5680 - acc: 0.73 - ETA: 31s - loss: 0.5667 - acc: 0.72 - ETA: 30s - loss: 0.5607 - acc: 0.73 - ETA: 28s - loss: 0.5641 - acc: 0.73 - ETA: 27s - loss: 0.5707 - acc: 0.72 - ETA: 26s - loss: 0.5756 - acc: 0.72 - ETA: 24s - loss: 0.5691 - acc: 0.72 - ETA: 23s - loss: 0.5760 - acc: 0.72 - ETA: 22s - loss: 0.5771 - acc: 0.72 - ETA: 20s - loss: 0.5804 - acc: 0.71 - ETA: 19s - loss: 0.5830 - acc: 0.71 - ETA: 18s - loss: 0.5841 - acc: 0.71 - ETA: 17s - loss: 0.5867 - acc: 0.71 - ETA: 15s - loss: 0.5858 - acc: 0.71 - ETA: 14s - loss: 0.5877 - acc: 0.71 - ETA: 13s - loss: 0.5917 - acc: 0.70 - ETA: 12s - loss: 0.5934 - acc: 0.69 - ETA: 11s - loss: 0.5930 - acc: 0.69 - ETA: 9s - loss: 0.5940 - acc: 0.6941 - ETA: 8s - loss: 0.5944 - acc: 0.692 - ETA: 7s - loss: 0.5948 - acc: 0.690 - ETA: 6s - loss: 0.5938 - acc: 0.692 - ETA: 5s - loss: 0.5965 - acc: 0.690 - ETA: 4s - loss: 0.5955 - acc: 0.692 - ETA: 2s - loss: 0.5971 - acc: 0.690 - ETA: 1s - loss: 0.5984 - acc: 0.687 - ETA: 0s - loss: 0.6000 - acc: 0.685 - 57s 38ms/sample - loss: 0.5989 - acc: 0.6884 - val_loss: 0.6609 - val_acc: 0.6867\n"
     ]
    },
    {
     "data": {
      "text/html": [
       "<span style=\"color:#4527A0\"><h1 style=\"font-size:18px\">Trial complete</h1></span>"
      ],
      "text/plain": [
       "<IPython.core.display.HTML object>"
      ]
     },
     "metadata": {},
     "output_type": "display_data"
    },
    {
     "data": {
      "text/html": [
       "<span style=\"color:#4527A0\"><h1 style=\"font-size:18px\">Trial summary</h1></span>"
      ],
      "text/plain": [
       "<IPython.core.display.HTML object>"
      ]
     },
     "metadata": {},
     "output_type": "display_data"
    },
    {
     "data": {
      "text/html": [
       "<span style=\"color:cyan\"> |-Trial ID: d22222fab6e9b5a0c6132b5461272070</span>"
      ],
      "text/plain": [
       "<IPython.core.display.HTML object>"
      ]
     },
     "metadata": {},
     "output_type": "display_data"
    },
    {
     "data": {
      "text/html": [
       "<span style=\"color:cyan\"> |-Score: 0.6867470145225525</span>"
      ],
      "text/plain": [
       "<IPython.core.display.HTML object>"
      ]
     },
     "metadata": {},
     "output_type": "display_data"
    },
    {
     "data": {
      "text/html": [
       "<span style=\"color:cyan\"> |-Best step: 0</span>"
      ],
      "text/plain": [
       "<IPython.core.display.HTML object>"
      ]
     },
     "metadata": {},
     "output_type": "display_data"
    },
    {
     "data": {
      "text/html": [
       "<span style=\"color:#7E57C2\"><h2 style=\"font-size:16px\">Hyperparameters:</h2></span>"
      ],
      "text/plain": [
       "<IPython.core.display.HTML object>"
      ]
     },
     "metadata": {},
     "output_type": "display_data"
    },
    {
     "data": {
      "text/html": [
       "<span style=\"color:cyan\"> |-conv_1_filter: 112</span>"
      ],
      "text/plain": [
       "<IPython.core.display.HTML object>"
      ]
     },
     "metadata": {},
     "output_type": "display_data"
    },
    {
     "data": {
      "text/html": [
       "<span style=\"color:blue\"> |-conv_1_kernel: 3</span>"
      ],
      "text/plain": [
       "<IPython.core.display.HTML object>"
      ]
     },
     "metadata": {},
     "output_type": "display_data"
    },
    {
     "data": {
      "text/html": [
       "<span style=\"color:cyan\"> |-conv_2_filter: 48</span>"
      ],
      "text/plain": [
       "<IPython.core.display.HTML object>"
      ]
     },
     "metadata": {},
     "output_type": "display_data"
    },
    {
     "data": {
      "text/html": [
       "<span style=\"color:blue\"> |-conv_2_kernel: 5</span>"
      ],
      "text/plain": [
       "<IPython.core.display.HTML object>"
      ]
     },
     "metadata": {},
     "output_type": "display_data"
    },
    {
     "data": {
      "text/html": [
       "<span style=\"color:cyan\"> |-dense_1_units: 48</span>"
      ],
      "text/plain": [
       "<IPython.core.display.HTML object>"
      ]
     },
     "metadata": {},
     "output_type": "display_data"
    },
    {
     "data": {
      "text/html": [
       "<span style=\"color:blue\"> |-learning_rate: 0.001</span>"
      ],
      "text/plain": [
       "<IPython.core.display.HTML object>"
      ]
     },
     "metadata": {},
     "output_type": "display_data"
    },
    {
     "name": "stdout",
     "output_type": "stream",
     "text": [
      "Train on 1486 samples, validate on 166 samples\n",
      "Epoch 1/3\n",
      "1486/1486 [==============================] - ETA: 42s - loss: 4.0081 - acc: 0.46 - ETA: 38s - loss: 75.8292 - acc: 0.453 - ETA: 37s - loss: 92.2560 - acc: 0.479 - ETA: 36s - loss: 77.4315 - acc: 0.429 - ETA: 35s - loss: 67.6279 - acc: 0.456 - ETA: 35s - loss: 59.0412 - acc: 0.468 - ETA: 34s - loss: 51.0842 - acc: 0.473 - ETA: 33s - loss: 44.8505 - acc: 0.468 - ETA: 32s - loss: 39.9449 - acc: 0.482 - ETA: 31s - loss: 36.0187 - acc: 0.484 - ETA: 30s - loss: 32.8097 - acc: 0.494 - ETA: 29s - loss: 30.1260 - acc: 0.507 - ETA: 28s - loss: 27.8587 - acc: 0.507 - ETA: 28s - loss: 25.9116 - acc: 0.524 - ETA: 27s - loss: 24.2313 - acc: 0.525 - ETA: 26s - loss: 22.7563 - acc: 0.529 - ETA: 25s - loss: 21.4582 - acc: 0.536 - ETA: 24s - loss: 20.3032 - acc: 0.539 - ETA: 23s - loss: 19.2763 - acc: 0.532 - ETA: 22s - loss: 18.3444 - acc: 0.539 - ETA: 21s - loss: 17.5020 - acc: 0.540 - ETA: 20s - loss: 16.7339 - acc: 0.544 - ETA: 19s - loss: 16.0326 - acc: 0.548 - ETA: 18s - loss: 15.3893 - acc: 0.557 - ETA: 18s - loss: 14.7980 - acc: 0.561 - ETA: 17s - loss: 14.2535 - acc: 0.564 - ETA: 16s - loss: 13.7511 - acc: 0.564 - ETA: 15s - loss: 13.2794 - acc: 0.570 - ETA: 14s - loss: 12.8429 - acc: 0.574 - ETA: 13s - loss: 12.4357 - acc: 0.575 - ETA: 13s - loss: 12.0517 - acc: 0.581 - ETA: 12s - loss: 11.6965 - acc: 0.581 - ETA: 11s - loss: 11.3626 - acc: 0.583 - ETA: 10s - loss: 11.0474 - acc: 0.584 - ETA: 9s - loss: 10.7484 - acc: 0.588 - ETA: 8s - loss: 10.4667 - acc: 0.59 - ETA: 8s - loss: 10.2000 - acc: 0.59 - ETA: 7s - loss: 9.9474 - acc: 0.5954 - ETA: 6s - loss: 9.7104 - acc: 0.599 - ETA: 5s - loss: 9.4817 - acc: 0.602 - ETA: 4s - loss: 9.2676 - acc: 0.602 - ETA: 3s - loss: 9.0643 - acc: 0.604 - ETA: 2s - loss: 8.8661 - acc: 0.608 - ETA: 2s - loss: 8.6787 - acc: 0.610 - ETA: 1s - loss: 8.5013 - acc: 0.611 - ETA: 0s - loss: 8.3297 - acc: 0.612 - 41s 28ms/sample - loss: 8.2593 - acc: 0.6117 - val_loss: 0.6639 - val_acc: 0.6627\n",
      "Epoch 2/3\n",
      "1486/1486 [==============================] - ETA: 38s - loss: 0.5956 - acc: 0.78 - ETA: 37s - loss: 0.5702 - acc: 0.73 - ETA: 35s - loss: 0.5954 - acc: 0.68 - ETA: 34s - loss: 0.6086 - acc: 0.69 - ETA: 33s - loss: 0.6013 - acc: 0.70 - ETA: 32s - loss: 0.6045 - acc: 0.70 - ETA: 31s - loss: 0.6047 - acc: 0.70 - ETA: 30s - loss: 0.6020 - acc: 0.70 - ETA: 30s - loss: 0.6012 - acc: 0.69 - ETA: 29s - loss: 0.6056 - acc: 0.69 - ETA: 28s - loss: 0.6024 - acc: 0.69 - ETA: 27s - loss: 0.5980 - acc: 0.69 - ETA: 26s - loss: 0.5915 - acc: 0.69 - ETA: 25s - loss: 0.5967 - acc: 0.69 - ETA: 25s - loss: 0.5900 - acc: 0.70 - ETA: 24s - loss: 0.5834 - acc: 0.71 - ETA: 23s - loss: 0.5803 - acc: 0.71 - ETA: 22s - loss: 0.5810 - acc: 0.71 - ETA: 22s - loss: 0.5749 - acc: 0.71 - ETA: 21s - loss: 0.5837 - acc: 0.71 - ETA: 20s - loss: 0.5774 - acc: 0.71 - ETA: 19s - loss: 0.5804 - acc: 0.71 - ETA: 19s - loss: 0.5762 - acc: 0.72 - ETA: 18s - loss: 0.5788 - acc: 0.71 - ETA: 17s - loss: 0.5798 - acc: 0.71 - ETA: 16s - loss: 0.5847 - acc: 0.71 - ETA: 15s - loss: 0.5827 - acc: 0.71 - ETA: 14s - loss: 0.5798 - acc: 0.71 - ETA: 14s - loss: 0.5804 - acc: 0.71 - ETA: 13s - loss: 0.5803 - acc: 0.71 - ETA: 12s - loss: 0.5812 - acc: 0.71 - ETA: 11s - loss: 0.5774 - acc: 0.71 - ETA: 10s - loss: 0.5789 - acc: 0.71 - ETA: 9s - loss: 0.5827 - acc: 0.7178 - ETA: 9s - loss: 0.5833 - acc: 0.719 - ETA: 8s - loss: 0.5863 - acc: 0.716 - ETA: 7s - loss: 0.5890 - acc: 0.715 - ETA: 6s - loss: 0.5926 - acc: 0.712 - ETA: 5s - loss: 0.5926 - acc: 0.712 - ETA: 5s - loss: 0.5926 - acc: 0.712 - ETA: 4s - loss: 0.5880 - acc: 0.717 - ETA: 3s - loss: 0.5860 - acc: 0.718 - ETA: 2s - loss: 0.5848 - acc: 0.719 - ETA: 1s - loss: 0.5854 - acc: 0.718 - ETA: 1s - loss: 0.5846 - acc: 0.720 - ETA: 0s - loss: 0.5838 - acc: 0.722 - 38s 26ms/sample - loss: 0.5838 - acc: 0.7221 - val_loss: 0.6187 - val_acc: 0.7169\n",
      "Epoch 3/3\n",
      "1486/1486 [==============================] - ETA: 34s - loss: 0.5489 - acc: 0.78 - ETA: 33s - loss: 0.5271 - acc: 0.75 - ETA: 32s - loss: 0.5567 - acc: 0.75 - ETA: 32s - loss: 0.5543 - acc: 0.75 - ETA: 31s - loss: 0.5593 - acc: 0.73 - ETA: 30s - loss: 0.5607 - acc: 0.71 - ETA: 30s - loss: 0.5703 - acc: 0.71 - ETA: 29s - loss: 0.5745 - acc: 0.71 - ETA: 28s - loss: 0.5625 - acc: 0.71 - ETA: 27s - loss: 0.5556 - acc: 0.72 - ETA: 27s - loss: 0.5588 - acc: 0.71 - ETA: 26s - loss: 0.5601 - acc: 0.71 - ETA: 25s - loss: 0.5673 - acc: 0.70 - ETA: 24s - loss: 0.5580 - acc: 0.72 - ETA: 24s - loss: 0.5587 - acc: 0.71 - ETA: 23s - loss: 0.5537 - acc: 0.72 - ETA: 22s - loss: 0.5432 - acc: 0.74 - ETA: 21s - loss: 0.5398 - acc: 0.74 - ETA: 21s - loss: 0.5326 - acc: 0.74 - ETA: 20s - loss: 0.5296 - acc: 0.74 - ETA: 19s - loss: 0.5250 - acc: 0.74 - ETA: 18s - loss: 0.5296 - acc: 0.74 - ETA: 18s - loss: 0.5346 - acc: 0.73 - ETA: 17s - loss: 0.5434 - acc: 0.73 - ETA: 16s - loss: 0.5387 - acc: 0.74 - ETA: 15s - loss: 0.5373 - acc: 0.74 - ETA: 15s - loss: 0.5380 - acc: 0.73 - ETA: 14s - loss: 0.5377 - acc: 0.73 - ETA: 13s - loss: 0.5368 - acc: 0.73 - ETA: 12s - loss: 0.5380 - acc: 0.73 - ETA: 11s - loss: 0.5430 - acc: 0.72 - ETA: 11s - loss: 0.5470 - acc: 0.73 - ETA: 10s - loss: 0.5484 - acc: 0.73 - ETA: 9s - loss: 0.5481 - acc: 0.7325 - ETA: 8s - loss: 0.5456 - acc: 0.734 - ETA: 8s - loss: 0.5508 - acc: 0.732 - ETA: 7s - loss: 0.5539 - acc: 0.730 - ETA: 6s - loss: 0.5514 - acc: 0.730 - ETA: 5s - loss: 0.5509 - acc: 0.732 - ETA: 4s - loss: 0.5503 - acc: 0.735 - ETA: 4s - loss: 0.5517 - acc: 0.733 - ETA: 3s - loss: 0.5488 - acc: 0.735 - ETA: 2s - loss: 0.5456 - acc: 0.738 - ETA: 1s - loss: 0.5472 - acc: 0.738 - ETA: 1s - loss: 0.5501 - acc: 0.737 - ETA: 0s - loss: 0.5546 - acc: 0.735 - 37s 25ms/sample - loss: 0.5529 - acc: 0.7369 - val_loss: 0.6913 - val_acc: 0.6747\n"
     ]
    },
    {
     "data": {
      "text/html": [
       "<span style=\"color:#4527A0\"><h1 style=\"font-size:18px\">Trial complete</h1></span>"
      ],
      "text/plain": [
       "<IPython.core.display.HTML object>"
      ]
     },
     "metadata": {},
     "output_type": "display_data"
    },
    {
     "data": {
      "text/html": [
       "<span style=\"color:#4527A0\"><h1 style=\"font-size:18px\">Trial summary</h1></span>"
      ],
      "text/plain": [
       "<IPython.core.display.HTML object>"
      ]
     },
     "metadata": {},
     "output_type": "display_data"
    },
    {
     "data": {
      "text/html": [
       "<span style=\"color:cyan\"> |-Trial ID: d13529963e601b23435dacef86e13572</span>"
      ],
      "text/plain": [
       "<IPython.core.display.HTML object>"
      ]
     },
     "metadata": {},
     "output_type": "display_data"
    },
    {
     "data": {
      "text/html": [
       "<span style=\"color:cyan\"> |-Score: 0.7168674468994141</span>"
      ],
      "text/plain": [
       "<IPython.core.display.HTML object>"
      ]
     },
     "metadata": {},
     "output_type": "display_data"
    },
    {
     "data": {
      "text/html": [
       "<span style=\"color:cyan\"> |-Best step: 0</span>"
      ],
      "text/plain": [
       "<IPython.core.display.HTML object>"
      ]
     },
     "metadata": {},
     "output_type": "display_data"
    },
    {
     "data": {
      "text/html": [
       "<span style=\"color:#7E57C2\"><h2 style=\"font-size:16px\">Hyperparameters:</h2></span>"
      ],
      "text/plain": [
       "<IPython.core.display.HTML object>"
      ]
     },
     "metadata": {},
     "output_type": "display_data"
    },
    {
     "data": {
      "text/html": [
       "<span style=\"color:cyan\"> |-conv_1_filter: 64</span>"
      ],
      "text/plain": [
       "<IPython.core.display.HTML object>"
      ]
     },
     "metadata": {},
     "output_type": "display_data"
    },
    {
     "data": {
      "text/html": [
       "<span style=\"color:blue\"> |-conv_1_kernel: 3</span>"
      ],
      "text/plain": [
       "<IPython.core.display.HTML object>"
      ]
     },
     "metadata": {},
     "output_type": "display_data"
    },
    {
     "data": {
      "text/html": [
       "<span style=\"color:cyan\"> |-conv_2_filter: 48</span>"
      ],
      "text/plain": [
       "<IPython.core.display.HTML object>"
      ]
     },
     "metadata": {},
     "output_type": "display_data"
    },
    {
     "data": {
      "text/html": [
       "<span style=\"color:blue\"> |-conv_2_kernel: 5</span>"
      ],
      "text/plain": [
       "<IPython.core.display.HTML object>"
      ]
     },
     "metadata": {},
     "output_type": "display_data"
    },
    {
     "data": {
      "text/html": [
       "<span style=\"color:cyan\"> |-dense_1_units: 64</span>"
      ],
      "text/plain": [
       "<IPython.core.display.HTML object>"
      ]
     },
     "metadata": {},
     "output_type": "display_data"
    },
    {
     "data": {
      "text/html": [
       "<span style=\"color:blue\"> |-learning_rate: 0.001</span>"
      ],
      "text/plain": [
       "<IPython.core.display.HTML object>"
      ]
     },
     "metadata": {},
     "output_type": "display_data"
    },
    {
     "name": "stdout",
     "output_type": "stream",
     "text": [
      "Train on 1486 samples, validate on 166 samples\n",
      "Epoch 1/3\n",
      "1486/1486 [==============================] - ETA: 34s - loss: 4.9129 - acc: 0.50 - ETA: 31s - loss: 55116.3432 - acc: 0.54 - ETA: 30s - loss: 36767.4352 - acc: 0.50 - ETA: 29s - loss: 27611.3036 - acc: 0.53 - ETA: 28s - loss: 22095.9808 - acc: 0.50 - ETA: 28s - loss: 18421.5563 - acc: 0.50 - ETA: 27s - loss: 15790.5125 - acc: 0.51 - ETA: 26s - loss: 13816.9652 - acc: 0.51 - ETA: 25s - loss: 12281.8805 - acc: 0.51 - ETA: 24s - loss: 11053.7781 - acc: 0.51 - ETA: 23s - loss: 10048.9553 - acc: 0.50 - ETA: 23s - loss: 9211.6119 - acc: 0.4948 - ETA: 22s - loss: 8503.0815 - acc: 0.490 - ETA: 22s - loss: 7895.7682 - acc: 0.493 - ETA: 21s - loss: 7369.4313 - acc: 0.477 - ETA: 20s - loss: 6908.8848 - acc: 0.486 - ETA: 20s - loss: 6502.5192 - acc: 0.494 - ETA: 19s - loss: 6141.3014 - acc: 0.498 - ETA: 18s - loss: 5818.6566 - acc: 0.501 - ETA: 18s - loss: 5527.7842 - acc: 0.492 - ETA: 17s - loss: 5264.5965 - acc: 0.494 - ETA: 16s - loss: 5025.3268 - acc: 0.498 - ETA: 15s - loss: 4806.8646 - acc: 0.500 - ETA: 15s - loss: 4606.6068 - acc: 0.501 - ETA: 14s - loss: 4422.3700 - acc: 0.503 - ETA: 13s - loss: 4252.3070 - acc: 0.501 - ETA: 13s - loss: 4094.8394 - acc: 0.502 - ETA: 12s - loss: 3948.6208 - acc: 0.501 - ETA: 11s - loss: 3812.4851 - acc: 0.504 - ETA: 11s - loss: 3685.4256 - acc: 0.503 - ETA: 10s - loss: 3566.5631 - acc: 0.503 - ETA: 10s - loss: 3455.1293 - acc: 0.505 - ETA: 9s - loss: 3350.4495 - acc: 0.508 - ETA: 8s - loss: 3251.9270 - acc: 0.50 - ETA: 7s - loss: 3159.0347 - acc: 0.50 - ETA: 7s - loss: 3071.3027 - acc: 0.50 - ETA: 6s - loss: 2988.3133 - acc: 0.50 - ETA: 5s - loss: 2909.6918 - acc: 0.50 - ETA: 5s - loss: 2835.1014 - acc: 0.50 - ETA: 4s - loss: 2764.2406 - acc: 0.50 - ETA: 3s - loss: 2696.8372 - acc: 0.50 - ETA: 3s - loss: 2632.6431 - acc: 0.50 - ETA: 2s - loss: 2571.4347 - acc: 0.50 - ETA: 1s - loss: 2513.0078 - acc: 0.50 - ETA: 1s - loss: 2457.1793 - acc: 0.50 - ETA: 0s - loss: 2403.7770 - acc: 0.51 - 33s 22ms/sample - loss: 2381.1366 - acc: 0.5108 - val_loss: 0.6717 - val_acc: 0.6265\n",
      "Epoch 2/3\n",
      "1486/1486 [==============================] - ETA: 28s - loss: 0.7211 - acc: 0.40 - ETA: 28s - loss: 0.7171 - acc: 0.46 - ETA: 27s - loss: 0.7174 - acc: 0.52 - ETA: 26s - loss: 0.6969 - acc: 0.57 - ETA: 26s - loss: 0.6975 - acc: 0.55 - ETA: 25s - loss: 0.6937 - acc: 0.54 - ETA: 24s - loss: 0.6968 - acc: 0.52 - ETA: 24s - loss: 0.6912 - acc: 0.53 - ETA: 23s - loss: 0.6982 - acc: 0.53 - ETA: 23s - loss: 0.6956 - acc: 0.53 - ETA: 22s - loss: 0.6946 - acc: 0.53 - ETA: 21s - loss: 0.6948 - acc: 0.53 - ETA: 21s - loss: 0.6932 - acc: 0.53 - ETA: 20s - loss: 0.6926 - acc: 0.53 - ETA: 19s - loss: 0.6917 - acc: 0.53 - ETA: 19s - loss: 0.6907 - acc: 0.53 - ETA: 19s - loss: 0.6906 - acc: 0.54 - ETA: 18s - loss: 0.6930 - acc: 0.54 - ETA: 18s - loss: 0.6931 - acc: 0.53 - ETA: 17s - loss: 0.6930 - acc: 0.53 - ETA: 17s - loss: 0.6929 - acc: 0.53 - ETA: 16s - loss: 0.6926 - acc: 0.54 - ETA: 16s - loss: 0.6921 - acc: 0.54 - ETA: 15s - loss: 0.6912 - acc: 0.55 - ETA: 14s - loss: 0.6892 - acc: 0.55 - ETA: 13s - loss: 0.6898 - acc: 0.55 - ETA: 13s - loss: 0.6895 - acc: 0.55 - ETA: 12s - loss: 0.6894 - acc: 0.55 - ETA: 11s - loss: 0.6887 - acc: 0.55 - ETA: 11s - loss: 0.6874 - acc: 0.55 - ETA: 10s - loss: 0.6892 - acc: 0.55 - ETA: 9s - loss: 0.6877 - acc: 0.5527 - ETA: 9s - loss: 0.6911 - acc: 0.552 - ETA: 8s - loss: 0.6905 - acc: 0.554 - ETA: 7s - loss: 0.6899 - acc: 0.549 - ETA: 7s - loss: 0.6889 - acc: 0.550 - ETA: 6s - loss: 0.6869 - acc: 0.556 - ETA: 5s - loss: 0.6860 - acc: 0.558 - ETA: 5s - loss: 0.6857 - acc: 0.559 - ETA: 4s - loss: 0.6862 - acc: 0.559 - ETA: 3s - loss: 0.6840 - acc: 0.561 - ETA: 3s - loss: 0.6827 - acc: 0.562 - ETA: 2s - loss: 0.6820 - acc: 0.564 - ETA: 1s - loss: 0.6814 - acc: 0.565 - ETA: 0s - loss: 0.6809 - acc: 0.566 - ETA: 0s - loss: 0.6822 - acc: 0.565 - 33s 22ms/sample - loss: 0.6820 - acc: 0.5666 - val_loss: 0.6355 - val_acc: 0.7169\n",
      "Epoch 3/3\n",
      "1486/1486 [==============================] - ETA: 27s - loss: 0.5849 - acc: 0.65 - ETA: 27s - loss: 0.6025 - acc: 0.59 - ETA: 26s - loss: 0.6409 - acc: 0.55 - ETA: 25s - loss: 0.6404 - acc: 0.60 - ETA: 25s - loss: 0.6562 - acc: 0.57 - ETA: 24s - loss: 0.6485 - acc: 0.57 - ETA: 24s - loss: 0.6559 - acc: 0.57 - ETA: 23s - loss: 0.6594 - acc: 0.56 - ETA: 22s - loss: 0.6544 - acc: 0.56 - ETA: 22s - loss: 0.6550 - acc: 0.56 - ETA: 21s - loss: 0.6527 - acc: 0.55 - ETA: 21s - loss: 0.6514 - acc: 0.57 - ETA: 20s - loss: 0.6498 - acc: 0.57 - ETA: 20s - loss: 0.6520 - acc: 0.56 - ETA: 19s - loss: 0.6553 - acc: 0.57 - ETA: 19s - loss: 0.6527 - acc: 0.57 - ETA: 18s - loss: 0.6515 - acc: 0.57 - ETA: 17s - loss: 0.6514 - acc: 0.58 - ETA: 17s - loss: 0.6516 - acc: 0.58 - ETA: 16s - loss: 0.6508 - acc: 0.58 - ETA: 16s - loss: 0.6515 - acc: 0.58 - ETA: 15s - loss: 0.6529 - acc: 0.59 - ETA: 15s - loss: 0.6610 - acc: 0.59 - ETA: 14s - loss: 0.6626 - acc: 0.59 - ETA: 13s - loss: 0.6636 - acc: 0.59 - ETA: 13s - loss: 0.6640 - acc: 0.59 - ETA: 12s - loss: 0.6644 - acc: 0.59 - ETA: 12s - loss: 0.6644 - acc: 0.60 - ETA: 11s - loss: 0.6642 - acc: 0.60 - ETA: 10s - loss: 0.6649 - acc: 0.60 - ETA: 10s - loss: 0.6656 - acc: 0.59 - ETA: 9s - loss: 0.6651 - acc: 0.5977 - ETA: 8s - loss: 0.6659 - acc: 0.598 - ETA: 8s - loss: 0.6660 - acc: 0.604 - ETA: 7s - loss: 0.6672 - acc: 0.602 - ETA: 6s - loss: 0.6680 - acc: 0.605 - ETA: 6s - loss: 0.6697 - acc: 0.603 - ETA: 5s - loss: 0.6693 - acc: 0.604 - ETA: 4s - loss: 0.6700 - acc: 0.605 - ETA: 4s - loss: 0.6703 - acc: 0.603 - ETA: 3s - loss: 0.6699 - acc: 0.603 - ETA: 2s - loss: 0.6693 - acc: 0.605 - ETA: 2s - loss: 0.6688 - acc: 0.606 - ETA: 1s - loss: 0.6672 - acc: 0.608 - ETA: 0s - loss: 0.6669 - acc: 0.608 - ETA: 0s - loss: 0.6646 - acc: 0.612 - 31s 21ms/sample - loss: 0.6696 - acc: 0.6117 - val_loss: 0.5994 - val_acc: 0.7048\n"
     ]
    },
    {
     "data": {
      "text/html": [
       "<span style=\"color:#4527A0\"><h1 style=\"font-size:18px\">Trial complete</h1></span>"
      ],
      "text/plain": [
       "<IPython.core.display.HTML object>"
      ]
     },
     "metadata": {},
     "output_type": "display_data"
    },
    {
     "data": {
      "text/html": [
       "<span style=\"color:#4527A0\"><h1 style=\"font-size:18px\">Trial summary</h1></span>"
      ],
      "text/plain": [
       "<IPython.core.display.HTML object>"
      ]
     },
     "metadata": {},
     "output_type": "display_data"
    },
    {
     "data": {
      "text/html": [
       "<span style=\"color:cyan\"> |-Trial ID: f3506f79f0840c10ab7d9cb231c1a445</span>"
      ],
      "text/plain": [
       "<IPython.core.display.HTML object>"
      ]
     },
     "metadata": {},
     "output_type": "display_data"
    },
    {
     "data": {
      "text/html": [
       "<span style=\"color:cyan\"> |-Score: 0.7168674468994141</span>"
      ],
      "text/plain": [
       "<IPython.core.display.HTML object>"
      ]
     },
     "metadata": {},
     "output_type": "display_data"
    },
    {
     "data": {
      "text/html": [
       "<span style=\"color:cyan\"> |-Best step: 0</span>"
      ],
      "text/plain": [
       "<IPython.core.display.HTML object>"
      ]
     },
     "metadata": {},
     "output_type": "display_data"
    },
    {
     "data": {
      "text/html": [
       "<span style=\"color:#7E57C2\"><h2 style=\"font-size:16px\">Hyperparameters:</h2></span>"
      ],
      "text/plain": [
       "<IPython.core.display.HTML object>"
      ]
     },
     "metadata": {},
     "output_type": "display_data"
    },
    {
     "data": {
      "text/html": [
       "<span style=\"color:cyan\"> |-conv_1_filter: 48</span>"
      ],
      "text/plain": [
       "<IPython.core.display.HTML object>"
      ]
     },
     "metadata": {},
     "output_type": "display_data"
    },
    {
     "data": {
      "text/html": [
       "<span style=\"color:blue\"> |-conv_1_kernel: 5</span>"
      ],
      "text/plain": [
       "<IPython.core.display.HTML object>"
      ]
     },
     "metadata": {},
     "output_type": "display_data"
    },
    {
     "data": {
      "text/html": [
       "<span style=\"color:cyan\"> |-conv_2_filter: 48</span>"
      ],
      "text/plain": [
       "<IPython.core.display.HTML object>"
      ]
     },
     "metadata": {},
     "output_type": "display_data"
    },
    {
     "data": {
      "text/html": [
       "<span style=\"color:blue\"> |-conv_2_kernel: 5</span>"
      ],
      "text/plain": [
       "<IPython.core.display.HTML object>"
      ]
     },
     "metadata": {},
     "output_type": "display_data"
    },
    {
     "data": {
      "text/html": [
       "<span style=\"color:cyan\"> |-dense_1_units: 64</span>"
      ],
      "text/plain": [
       "<IPython.core.display.HTML object>"
      ]
     },
     "metadata": {},
     "output_type": "display_data"
    },
    {
     "data": {
      "text/html": [
       "<span style=\"color:blue\"> |-learning_rate: 0.01</span>"
      ],
      "text/plain": [
       "<IPython.core.display.HTML object>"
      ]
     },
     "metadata": {},
     "output_type": "display_data"
    },
    {
     "name": "stdout",
     "output_type": "stream",
     "text": [
      "INFO:tensorflow:Oracle triggered exit\n"
     ]
    }
   ],
   "source": [
    "tuner_search.search(x_train,y_train,epochs=3,validation_split=0.1)"
   ]
  },
  {
   "cell_type": "code",
   "execution_count": 19,
   "metadata": {},
   "outputs": [],
   "source": [
    "model=tuner_search.get_best_models(num_models=1)[0]"
   ]
  },
  {
   "cell_type": "code",
   "execution_count": 20,
   "metadata": {},
   "outputs": [],
   "source": [
    "log_file_name = f'brain_tumor_detection_cnn_{int(time.time())}'\n",
    "tensorboard = TensorBoard(log_dir=f'logs\\{log_file_name}')\n",
    "filepath=\"cnn-parameters-improvement-{epoch:02d}-{val_acc:.2f}\"\n",
    "checkpoint = ModelCheckpoint(\"models/{}.model\".format(filepath, monitor='val_acc', verbose=1, save_best_only=True, mode='max'))"
   ]
  },
  {
   "cell_type": "code",
   "execution_count": 21,
   "metadata": {},
   "outputs": [
    {
     "name": "stdout",
     "output_type": "stream",
     "text": [
      "Train on 1652 samples, validate on 207 samples\n",
      "Epoch 1/10\n",
      "1652/1652 [==============================] - ETA: 25s - loss: 0.7333 - acc: 0.62 - ETA: 22s - loss: 0.6252 - acc: 0.71 - ETA: 21s - loss: 0.5844 - acc: 0.72 - ETA: 20s - loss: 0.5693 - acc: 0.72 - ETA: 19s - loss: 0.5298 - acc: 0.75 - ETA: 19s - loss: 0.5356 - acc: 0.75 - ETA: 19s - loss: 0.5412 - acc: 0.74 - ETA: 19s - loss: 0.5289 - acc: 0.75 - ETA: 18s - loss: 0.5216 - acc: 0.75 - ETA: 18s - loss: 0.5151 - acc: 0.75 - ETA: 17s - loss: 0.5087 - acc: 0.76 - ETA: 17s - loss: 0.5122 - acc: 0.75 - ETA: 16s - loss: 0.5100 - acc: 0.74 - ETA: 16s - loss: 0.5063 - acc: 0.75 - ETA: 15s - loss: 0.5025 - acc: 0.75 - ETA: 15s - loss: 0.5088 - acc: 0.75 - ETA: 14s - loss: 0.5077 - acc: 0.75 - ETA: 14s - loss: 0.5060 - acc: 0.75 - ETA: 13s - loss: 0.5018 - acc: 0.75 - ETA: 13s - loss: 0.4964 - acc: 0.76 - ETA: 13s - loss: 0.4924 - acc: 0.76 - ETA: 12s - loss: 0.4971 - acc: 0.76 - ETA: 12s - loss: 0.4975 - acc: 0.76 - ETA: 11s - loss: 0.4907 - acc: 0.76 - ETA: 11s - loss: 0.4869 - acc: 0.76 - ETA: 11s - loss: 0.4850 - acc: 0.77 - ETA: 10s - loss: 0.4881 - acc: 0.77 - ETA: 10s - loss: 0.4920 - acc: 0.76 - ETA: 9s - loss: 0.4957 - acc: 0.7662 - ETA: 9s - loss: 0.4935 - acc: 0.769 - ETA: 9s - loss: 0.4955 - acc: 0.772 - ETA: 8s - loss: 0.4962 - acc: 0.768 - ETA: 8s - loss: 0.4947 - acc: 0.766 - ETA: 7s - loss: 0.4978 - acc: 0.764 - ETA: 7s - loss: 0.4952 - acc: 0.766 - ETA: 6s - loss: 0.4945 - acc: 0.764 - ETA: 6s - loss: 0.4909 - acc: 0.767 - ETA: 6s - loss: 0.4890 - acc: 0.769 - ETA: 5s - loss: 0.4844 - acc: 0.771 - ETA: 5s - loss: 0.4844 - acc: 0.770 - ETA: 4s - loss: 0.4840 - acc: 0.769 - ETA: 4s - loss: 0.4846 - acc: 0.767 - ETA: 3s - loss: 0.4840 - acc: 0.768 - ETA: 3s - loss: 0.4823 - acc: 0.770 - ETA: 2s - loss: 0.4825 - acc: 0.771 - ETA: 2s - loss: 0.4803 - acc: 0.772 - ETA: 2s - loss: 0.4811 - acc: 0.771 - ETA: 1s - loss: 0.4822 - acc: 0.771 - ETA: 1s - loss: 0.4821 - acc: 0.771 - ETA: 0s - loss: 0.4810 - acc: 0.770 - ETA: 0s - loss: 0.4826 - acc: 0.770 - 24s 14ms/sample - loss: 0.4821 - acc: 0.7706 - val_loss: 0.5737 - val_acc: 0.7101\n",
      "Epoch 2/10\n",
      "1652/1652 [==============================] - ETA: 22s - loss: 0.4759 - acc: 0.71 - ETA: 23s - loss: 0.3732 - acc: 0.82 - ETA: 21s - loss: 0.4130 - acc: 0.79 - ETA: 21s - loss: 0.3794 - acc: 0.82 - ETA: 20s - loss: 0.3812 - acc: 0.83 - ETA: 20s - loss: 0.3612 - acc: 0.84 - ETA: 19s - loss: 0.3698 - acc: 0.83 - ETA: 18s - loss: 0.3646 - acc: 0.83 - ETA: 18s - loss: 0.3504 - acc: 0.85 - ETA: 17s - loss: 0.3605 - acc: 0.84 - ETA: 17s - loss: 0.3695 - acc: 0.84 - ETA: 17s - loss: 0.3734 - acc: 0.84 - ETA: 16s - loss: 0.3804 - acc: 0.83 - ETA: 16s - loss: 0.3812 - acc: 0.83 - ETA: 15s - loss: 0.3905 - acc: 0.82 - ETA: 15s - loss: 0.3904 - acc: 0.82 - ETA: 14s - loss: 0.3953 - acc: 0.81 - ETA: 14s - loss: 0.4005 - acc: 0.81 - ETA: 14s - loss: 0.3956 - acc: 0.81 - ETA: 13s - loss: 0.3954 - acc: 0.81 - ETA: 13s - loss: 0.3974 - acc: 0.81 - ETA: 12s - loss: 0.3956 - acc: 0.82 - ETA: 12s - loss: 0.3935 - acc: 0.82 - ETA: 11s - loss: 0.3944 - acc: 0.82 - ETA: 11s - loss: 0.3902 - acc: 0.82 - ETA: 10s - loss: 0.3880 - acc: 0.82 - ETA: 10s - loss: 0.3881 - acc: 0.82 - ETA: 10s - loss: 0.3908 - acc: 0.82 - ETA: 9s - loss: 0.3918 - acc: 0.8211 - ETA: 9s - loss: 0.3962 - acc: 0.816 - ETA: 8s - loss: 0.3936 - acc: 0.818 - ETA: 8s - loss: 0.3909 - acc: 0.823 - ETA: 7s - loss: 0.3934 - acc: 0.822 - ETA: 7s - loss: 0.3946 - acc: 0.821 - ETA: 7s - loss: 0.3948 - acc: 0.822 - ETA: 6s - loss: 0.3949 - acc: 0.821 - ETA: 6s - loss: 0.3922 - acc: 0.823 - ETA: 5s - loss: 0.3920 - acc: 0.823 - ETA: 5s - loss: 0.3952 - acc: 0.821 - ETA: 4s - loss: 0.3937 - acc: 0.823 - ETA: 4s - loss: 0.3932 - acc: 0.823 - ETA: 4s - loss: 0.3906 - acc: 0.825 - ETA: 3s - loss: 0.3941 - acc: 0.824 - ETA: 3s - loss: 0.3945 - acc: 0.824 - ETA: 2s - loss: 0.3925 - acc: 0.826 - ETA: 2s - loss: 0.3925 - acc: 0.825 - ETA: 1s - loss: 0.3924 - acc: 0.826 - ETA: 1s - loss: 0.3917 - acc: 0.825 - ETA: 1s - loss: 0.3910 - acc: 0.825 - ETA: 0s - loss: 0.3916 - acc: 0.826 - ETA: 0s - loss: 0.3967 - acc: 0.824 - 23s 14ms/sample - loss: 0.3994 - acc: 0.8226 - val_loss: 0.6217 - val_acc: 0.7488\n",
      "Epoch 3/10\n",
      "1652/1652 [==============================] - ETA: 21s - loss: 0.2875 - acc: 0.87 - ETA: 20s - loss: 0.2788 - acc: 0.87 - ETA: 20s - loss: 0.3056 - acc: 0.88 - ETA: 20s - loss: 0.3136 - acc: 0.87 - ETA: 19s - loss: 0.3225 - acc: 0.88 - ETA: 19s - loss: 0.3191 - acc: 0.88 - ETA: 19s - loss: 0.3502 - acc: 0.85 - ETA: 18s - loss: 0.3383 - acc: 0.86 - ETA: 18s - loss: 0.3319 - acc: 0.86 - ETA: 18s - loss: 0.3361 - acc: 0.86 - ETA: 17s - loss: 0.3327 - acc: 0.86 - ETA: 17s - loss: 0.3237 - acc: 0.87 - ETA: 16s - loss: 0.3202 - acc: 0.87 - ETA: 16s - loss: 0.3148 - acc: 0.88 - ETA: 16s - loss: 0.3229 - acc: 0.87 - ETA: 15s - loss: 0.3221 - acc: 0.88 - ETA: 15s - loss: 0.3169 - acc: 0.88 - ETA: 15s - loss: 0.3230 - acc: 0.87 - ETA: 14s - loss: 0.3198 - acc: 0.87 - ETA: 14s - loss: 0.3250 - acc: 0.86 - ETA: 13s - loss: 0.3282 - acc: 0.86 - ETA: 13s - loss: 0.3382 - acc: 0.86 - ETA: 12s - loss: 0.3304 - acc: 0.86 - ETA: 12s - loss: 0.3284 - acc: 0.86 - ETA: 11s - loss: 0.3276 - acc: 0.87 - ETA: 11s - loss: 0.3259 - acc: 0.87 - ETA: 11s - loss: 0.3289 - acc: 0.87 - ETA: 10s - loss: 0.3359 - acc: 0.86 - ETA: 10s - loss: 0.3339 - acc: 0.86 - ETA: 9s - loss: 0.3370 - acc: 0.8594 - ETA: 9s - loss: 0.3349 - acc: 0.859 - ETA: 8s - loss: 0.3326 - acc: 0.861 - ETA: 8s - loss: 0.3337 - acc: 0.861 - ETA: 7s - loss: 0.3313 - acc: 0.864 - ETA: 7s - loss: 0.3349 - acc: 0.863 - ETA: 7s - loss: 0.3372 - acc: 0.862 - ETA: 6s - loss: 0.3367 - acc: 0.861 - ETA: 6s - loss: 0.3400 - acc: 0.859 - ETA: 5s - loss: 0.3409 - acc: 0.856 - ETA: 5s - loss: 0.3373 - acc: 0.858 - ETA: 4s - loss: 0.3343 - acc: 0.860 - ETA: 4s - loss: 0.3325 - acc: 0.861 - ETA: 3s - loss: 0.3293 - acc: 0.863 - ETA: 3s - loss: 0.3305 - acc: 0.860 - ETA: 2s - loss: 0.3317 - acc: 0.859 - ETA: 2s - loss: 0.3346 - acc: 0.858 - ETA: 2s - loss: 0.3325 - acc: 0.860 - ETA: 1s - loss: 0.3286 - acc: 0.862 - ETA: 1s - loss: 0.3307 - acc: 0.861 - ETA: 0s - loss: 0.3333 - acc: 0.859 - ETA: 0s - loss: 0.3353 - acc: 0.857 - 24s 15ms/sample - loss: 0.3348 - acc: 0.8577 - val_loss: 0.7026 - val_acc: 0.7198\n",
      "Epoch 4/10\n",
      "1652/1652 [==============================] - ETA: 24s - loss: 0.2593 - acc: 0.96 - ETA: 23s - loss: 0.2506 - acc: 0.95 - ETA: 22s - loss: 0.2146 - acc: 0.95 - ETA: 21s - loss: 0.2197 - acc: 0.94 - ETA: 21s - loss: 0.2158 - acc: 0.93 - ETA: 20s - loss: 0.2498 - acc: 0.93 - ETA: 20s - loss: 0.2421 - acc: 0.93 - ETA: 19s - loss: 0.2277 - acc: 0.94 - ETA: 19s - loss: 0.2232 - acc: 0.93 - ETA: 18s - loss: 0.2222 - acc: 0.93 - ETA: 18s - loss: 0.2153 - acc: 0.93 - ETA: 17s - loss: 0.2067 - acc: 0.94 - ETA: 17s - loss: 0.2001 - acc: 0.93 - ETA: 16s - loss: 0.1931 - acc: 0.94 - ETA: 16s - loss: 0.1937 - acc: 0.93 - ETA: 15s - loss: 0.1960 - acc: 0.93 - ETA: 15s - loss: 0.1990 - acc: 0.93 - ETA: 14s - loss: 0.1987 - acc: 0.93 - ETA: 14s - loss: 0.1944 - acc: 0.93 - ETA: 14s - loss: 0.1981 - acc: 0.93 - ETA: 13s - loss: 0.1942 - acc: 0.93 - ETA: 13s - loss: 0.1964 - acc: 0.92 - ETA: 12s - loss: 0.1980 - acc: 0.92 - ETA: 12s - loss: 0.2140 - acc: 0.91 - ETA: 11s - loss: 0.2190 - acc: 0.91 - ETA: 11s - loss: 0.2241 - acc: 0.91 - ETA: 10s - loss: 0.2256 - acc: 0.91 - ETA: 10s - loss: 0.2228 - acc: 0.91 - ETA: 9s - loss: 0.2289 - acc: 0.9106 - ETA: 9s - loss: 0.2321 - acc: 0.907 - ETA: 9s - loss: 0.2336 - acc: 0.905 - ETA: 8s - loss: 0.2312 - acc: 0.907 - ETA: 8s - loss: 0.2330 - acc: 0.906 - ETA: 7s - loss: 0.2345 - acc: 0.904 - ETA: 7s - loss: 0.2324 - acc: 0.905 - ETA: 6s - loss: 0.2310 - acc: 0.905 - ETA: 6s - loss: 0.2331 - acc: 0.902 - ETA: 5s - loss: 0.2357 - acc: 0.901 - ETA: 5s - loss: 0.2357 - acc: 0.901 - ETA: 5s - loss: 0.2380 - acc: 0.900 - ETA: 4s - loss: 0.2416 - acc: 0.899 - ETA: 4s - loss: 0.2413 - acc: 0.900 - ETA: 3s - loss: 0.2392 - acc: 0.901 - ETA: 3s - loss: 0.2379 - acc: 0.903 - ETA: 2s - loss: 0.2429 - acc: 0.899 - ETA: 2s - loss: 0.2419 - acc: 0.900 - ETA: 2s - loss: 0.2441 - acc: 0.900 - ETA: 1s - loss: 0.2444 - acc: 0.899 - ETA: 1s - loss: 0.2450 - acc: 0.900 - ETA: 0s - loss: 0.2439 - acc: 0.900 - ETA: 0s - loss: 0.2417 - acc: 0.901 - 23s 14ms/sample - loss: 0.2415 - acc: 0.9019 - val_loss: 0.7723 - val_acc: 0.7005\n",
      "Epoch 5/10\n",
      "1652/1652 [==============================] - ETA: 21s - loss: 0.1177 - acc: 0.96 - ETA: 20s - loss: 0.1558 - acc: 0.93 - ETA: 20s - loss: 0.1456 - acc: 0.94 - ETA: 19s - loss: 0.1334 - acc: 0.95 - ETA: 19s - loss: 0.1416 - acc: 0.95 - ETA: 18s - loss: 0.1490 - acc: 0.94 - ETA: 18s - loss: 0.1424 - acc: 0.95 - ETA: 18s - loss: 0.1374 - acc: 0.96 - ETA: 17s - loss: 0.1542 - acc: 0.95 - ETA: 17s - loss: 0.1555 - acc: 0.95 - ETA: 16s - loss: 0.1820 - acc: 0.94 - ETA: 16s - loss: 0.1764 - acc: 0.94 - ETA: 16s - loss: 0.1752 - acc: 0.94 - ETA: 15s - loss: 0.1720 - acc: 0.94 - ETA: 15s - loss: 0.1684 - acc: 0.94 - ETA: 14s - loss: 0.1791 - acc: 0.94 - ETA: 14s - loss: 0.1797 - acc: 0.93 - ETA: 14s - loss: 0.1806 - acc: 0.93 - ETA: 13s - loss: 0.1807 - acc: 0.93 - ETA: 13s - loss: 0.1804 - acc: 0.93 - ETA: 12s - loss: 0.1820 - acc: 0.93 - ETA: 12s - loss: 0.1782 - acc: 0.94 - ETA: 11s - loss: 0.1791 - acc: 0.94 - ETA: 11s - loss: 0.1785 - acc: 0.94 - ETA: 11s - loss: 0.1750 - acc: 0.94 - ETA: 10s - loss: 0.1789 - acc: 0.93 - ETA: 10s - loss: 0.1761 - acc: 0.94 - ETA: 9s - loss: 0.1738 - acc: 0.9420 - ETA: 9s - loss: 0.1717 - acc: 0.944 - ETA: 9s - loss: 0.1733 - acc: 0.941 - ETA: 8s - loss: 0.1719 - acc: 0.942 - ETA: 8s - loss: 0.1696 - acc: 0.943 - ETA: 7s - loss: 0.1667 - acc: 0.944 - ETA: 7s - loss: 0.1660 - acc: 0.944 - ETA: 7s - loss: 0.1631 - acc: 0.946 - ETA: 6s - loss: 0.1622 - acc: 0.947 - ETA: 6s - loss: 0.1626 - acc: 0.946 - ETA: 5s - loss: 0.1617 - acc: 0.946 - ETA: 5s - loss: 0.1596 - acc: 0.947 - ETA: 4s - loss: 0.1597 - acc: 0.946 - ETA: 4s - loss: 0.1590 - acc: 0.945 - ETA: 4s - loss: 0.1595 - acc: 0.944 - ETA: 3s - loss: 0.1591 - acc: 0.944 - ETA: 3s - loss: 0.1665 - acc: 0.941 - ETA: 2s - loss: 0.1662 - acc: 0.941 - ETA: 2s - loss: 0.1662 - acc: 0.942 - ETA: 1s - loss: 0.1649 - acc: 0.943 - ETA: 1s - loss: 0.1636 - acc: 0.943 - ETA: 1s - loss: 0.1630 - acc: 0.943 - ETA: 0s - loss: 0.1642 - acc: 0.942 - ETA: 0s - loss: 0.1635 - acc: 0.942 - 23s 14ms/sample - loss: 0.1627 - acc: 0.9431 - val_loss: 0.9423 - val_acc: 0.7246\n",
      "Epoch 6/10\n",
      "1652/1652 [==============================] - ETA: 21s - loss: 0.1085 - acc: 0.96 - ETA: 20s - loss: 0.0908 - acc: 0.98 - ETA: 19s - loss: 0.0775 - acc: 0.98 - ETA: 19s - loss: 0.0689 - acc: 0.98 - ETA: 19s - loss: 0.0637 - acc: 0.98 - ETA: 19s - loss: 0.0646 - acc: 0.98 - ETA: 18s - loss: 0.0619 - acc: 0.99 - ETA: 18s - loss: 0.0592 - acc: 0.99 - ETA: 18s - loss: 0.0622 - acc: 0.99 - ETA: 17s - loss: 0.0758 - acc: 0.98 - ETA: 17s - loss: 0.0779 - acc: 0.98 - ETA: 16s - loss: 0.0742 - acc: 0.98 - ETA: 16s - loss: 0.0709 - acc: 0.98 - ETA: 15s - loss: 0.0692 - acc: 0.98 - ETA: 15s - loss: 0.0673 - acc: 0.98 - ETA: 15s - loss: 0.0683 - acc: 0.98 - ETA: 14s - loss: 0.0727 - acc: 0.98 - ETA: 14s - loss: 0.0728 - acc: 0.98 - ETA: 13s - loss: 0.0744 - acc: 0.98 - ETA: 13s - loss: 0.0735 - acc: 0.97 - ETA: 13s - loss: 0.0723 - acc: 0.98 - ETA: 12s - loss: 0.0715 - acc: 0.98 - ETA: 12s - loss: 0.0700 - acc: 0.98 - ETA: 11s - loss: 0.0695 - acc: 0.98 - ETA: 11s - loss: 0.0724 - acc: 0.98 - ETA: 10s - loss: 0.0708 - acc: 0.98 - ETA: 10s - loss: 0.0711 - acc: 0.98 - ETA: 10s - loss: 0.0718 - acc: 0.98 - ETA: 9s - loss: 0.0722 - acc: 0.9806 - ETA: 9s - loss: 0.0710 - acc: 0.981 - ETA: 8s - loss: 0.0707 - acc: 0.980 - ETA: 8s - loss: 0.0706 - acc: 0.981 - ETA: 7s - loss: 0.0707 - acc: 0.981 - ETA: 7s - loss: 0.0704 - acc: 0.981 - ETA: 7s - loss: 0.0694 - acc: 0.982 - ETA: 6s - loss: 0.0702 - acc: 0.981 - ETA: 6s - loss: 0.0711 - acc: 0.981 - ETA: 5s - loss: 0.0707 - acc: 0.981 - ETA: 5s - loss: 0.0736 - acc: 0.980 - ETA: 5s - loss: 0.0724 - acc: 0.981 - ETA: 4s - loss: 0.0729 - acc: 0.980 - ETA: 4s - loss: 0.0726 - acc: 0.980 - ETA: 3s - loss: 0.0713 - acc: 0.981 - ETA: 3s - loss: 0.0716 - acc: 0.980 - ETA: 2s - loss: 0.0709 - acc: 0.981 - ETA: 2s - loss: 0.0706 - acc: 0.981 - ETA: 2s - loss: 0.0728 - acc: 0.980 - ETA: 1s - loss: 0.0727 - acc: 0.980 - ETA: 1s - loss: 0.0741 - acc: 0.979 - ETA: 0s - loss: 0.0741 - acc: 0.979 - ETA: 0s - loss: 0.0757 - acc: 0.977 - 24s 14ms/sample - loss: 0.0756 - acc: 0.9776 - val_loss: 1.1559 - val_acc: 0.7150\n",
      "Epoch 7/10\n",
      "1652/1652 [==============================] - ETA: 22s - loss: 0.0472 - acc: 1.00 - ETA: 22s - loss: 0.0403 - acc: 1.00 - ETA: 21s - loss: 0.0781 - acc: 0.97 - ETA: 20s - loss: 0.0616 - acc: 0.98 - ETA: 20s - loss: 0.0674 - acc: 0.98 - ETA: 19s - loss: 0.0624 - acc: 0.98 - ETA: 19s - loss: 0.0593 - acc: 0.98 - ETA: 18s - loss: 0.0604 - acc: 0.98 - ETA: 18s - loss: 0.0649 - acc: 0.97 - ETA: 17s - loss: 0.0626 - acc: 0.97 - ETA: 17s - loss: 0.0620 - acc: 0.97 - ETA: 16s - loss: 0.0620 - acc: 0.97 - ETA: 16s - loss: 0.0584 - acc: 0.98 - ETA: 15s - loss: 0.0606 - acc: 0.98 - ETA: 15s - loss: 0.0576 - acc: 0.98 - ETA: 15s - loss: 0.0589 - acc: 0.98 - ETA: 14s - loss: 0.0606 - acc: 0.98 - ETA: 14s - loss: 0.0579 - acc: 0.98 - ETA: 13s - loss: 0.0556 - acc: 0.98 - ETA: 13s - loss: 0.0545 - acc: 0.98 - ETA: 12s - loss: 0.0528 - acc: 0.98 - ETA: 12s - loss: 0.0515 - acc: 0.98 - ETA: 12s - loss: 0.0507 - acc: 0.98 - ETA: 11s - loss: 0.0518 - acc: 0.98 - ETA: 11s - loss: 0.0507 - acc: 0.98 - ETA: 10s - loss: 0.0569 - acc: 0.98 - ETA: 10s - loss: 0.0578 - acc: 0.98 - ETA: 10s - loss: 0.0565 - acc: 0.98 - ETA: 9s - loss: 0.0572 - acc: 0.9828 - ETA: 9s - loss: 0.0568 - acc: 0.983 - ETA: 8s - loss: 0.0559 - acc: 0.983 - ETA: 8s - loss: 0.0556 - acc: 0.984 - ETA: 7s - loss: 0.0554 - acc: 0.983 - ETA: 7s - loss: 0.0547 - acc: 0.984 - ETA: 7s - loss: 0.0549 - acc: 0.983 - ETA: 6s - loss: 0.0567 - acc: 0.983 - ETA: 6s - loss: 0.0560 - acc: 0.984 - ETA: 5s - loss: 0.0553 - acc: 0.984 - ETA: 5s - loss: 0.0548 - acc: 0.984 - ETA: 4s - loss: 0.0542 - acc: 0.985 - ETA: 4s - loss: 0.0543 - acc: 0.984 - ETA: 4s - loss: 0.0535 - acc: 0.985 - ETA: 3s - loss: 0.0534 - acc: 0.985 - ETA: 3s - loss: 0.0530 - acc: 0.985 - ETA: 2s - loss: 0.0526 - acc: 0.985 - ETA: 2s - loss: 0.0517 - acc: 0.985 - ETA: 1s - loss: 0.0516 - acc: 0.985 - ETA: 1s - loss: 0.0509 - acc: 0.985 - ETA: 1s - loss: 0.0519 - acc: 0.985 - ETA: 0s - loss: 0.0519 - acc: 0.985 - ETA: 0s - loss: 0.0520 - acc: 0.984 - 23s 14ms/sample - loss: 0.0515 - acc: 0.9849 - val_loss: 1.2714 - val_acc: 0.7101\n",
      "Epoch 8/10\n",
      "1652/1652 [==============================] - ETA: 20s - loss: 0.0520 - acc: 0.96 - ETA: 19s - loss: 0.0356 - acc: 0.98 - ETA: 19s - loss: 0.0324 - acc: 0.98 - ETA: 19s - loss: 0.0270 - acc: 0.99 - ETA: 18s - loss: 0.0274 - acc: 0.99 - ETA: 18s - loss: 0.0407 - acc: 0.98 - ETA: 18s - loss: 0.0384 - acc: 0.98 - ETA: 17s - loss: 0.0349 - acc: 0.98 - ETA: 17s - loss: 0.0329 - acc: 0.98 - ETA: 17s - loss: 0.0315 - acc: 0.99 - ETA: 16s - loss: 0.0297 - acc: 0.99 - ETA: 16s - loss: 0.0278 - acc: 0.99 - ETA: 15s - loss: 0.0304 - acc: 0.99 - ETA: 15s - loss: 0.0303 - acc: 0.99 - ETA: 15s - loss: 0.0291 - acc: 0.99 - ETA: 14s - loss: 0.0287 - acc: 0.99 - ETA: 14s - loss: 0.0274 - acc: 0.99 - ETA: 13s - loss: 0.0274 - acc: 0.99 - ETA: 13s - loss: 0.0261 - acc: 0.99 - ETA: 13s - loss: 0.0251 - acc: 0.99 - ETA: 12s - loss: 0.0277 - acc: 0.99 - ETA: 12s - loss: 0.0272 - acc: 0.99 - ETA: 11s - loss: 0.0275 - acc: 0.99 - ETA: 11s - loss: 0.0269 - acc: 0.99 - ETA: 11s - loss: 0.0260 - acc: 0.99 - ETA: 10s - loss: 0.0264 - acc: 0.99 - ETA: 10s - loss: 0.0266 - acc: 0.99 - ETA: 9s - loss: 0.0267 - acc: 0.9944 - ETA: 9s - loss: 0.0261 - acc: 0.994 - ETA: 8s - loss: 0.0259 - acc: 0.994 - ETA: 8s - loss: 0.0279 - acc: 0.994 - ETA: 8s - loss: 0.0292 - acc: 0.993 - ETA: 7s - loss: 0.0288 - acc: 0.993 - ETA: 7s - loss: 0.0288 - acc: 0.993 - ETA: 6s - loss: 0.0299 - acc: 0.992 - ETA: 6s - loss: 0.0293 - acc: 0.993 - ETA: 6s - loss: 0.0295 - acc: 0.993 - ETA: 5s - loss: 0.0289 - acc: 0.993 - ETA: 5s - loss: 0.0283 - acc: 0.993 - ETA: 4s - loss: 0.0278 - acc: 0.993 - ETA: 4s - loss: 0.0273 - acc: 0.993 - ETA: 3s - loss: 0.0272 - acc: 0.994 - ETA: 3s - loss: 0.0266 - acc: 0.994 - ETA: 3s - loss: 0.0272 - acc: 0.993 - ETA: 2s - loss: 0.0270 - acc: 0.993 - ETA: 2s - loss: 0.0268 - acc: 0.993 - ETA: 1s - loss: 0.0263 - acc: 0.994 - ETA: 1s - loss: 0.0261 - acc: 0.994 - ETA: 1s - loss: 0.0267 - acc: 0.993 - ETA: 0s - loss: 0.0266 - acc: 0.993 - ETA: 0s - loss: 0.0265 - acc: 0.993 - 22s 13ms/sample - loss: 0.0263 - acc: 0.9939 - val_loss: 1.3417 - val_acc: 0.7295\n",
      "Epoch 9/10\n",
      "1652/1652 [==============================] - ETA: 20s - loss: 0.0228 - acc: 1.00 - ETA: 19s - loss: 0.0278 - acc: 0.98 - ETA: 19s - loss: 0.0256 - acc: 0.98 - ETA: 19s - loss: 0.0218 - acc: 0.99 - ETA: 18s - loss: 0.0210 - acc: 0.99 - ETA: 18s - loss: 0.0197 - acc: 0.99 - ETA: 18s - loss: 0.0210 - acc: 0.99 - ETA: 17s - loss: 0.0204 - acc: 0.99 - ETA: 17s - loss: 0.0267 - acc: 0.99 - ETA: 17s - loss: 0.0246 - acc: 0.99 - ETA: 16s - loss: 0.0239 - acc: 0.99 - ETA: 16s - loss: 0.0232 - acc: 0.99 - ETA: 15s - loss: 0.0223 - acc: 0.99 - ETA: 15s - loss: 0.0209 - acc: 0.99 - ETA: 15s - loss: 0.0331 - acc: 0.99 - ETA: 14s - loss: 0.0329 - acc: 0.99 - ETA: 14s - loss: 0.0312 - acc: 0.99 - ETA: 13s - loss: 0.0300 - acc: 0.99 - ETA: 13s - loss: 0.0287 - acc: 0.99 - ETA: 13s - loss: 0.0275 - acc: 0.99 - ETA: 12s - loss: 0.0262 - acc: 0.99 - ETA: 12s - loss: 0.0281 - acc: 0.99 - ETA: 11s - loss: 0.0286 - acc: 0.99 - ETA: 11s - loss: 0.0279 - acc: 0.99 - ETA: 11s - loss: 0.0278 - acc: 0.99 - ETA: 10s - loss: 0.0273 - acc: 0.99 - ETA: 10s - loss: 0.0289 - acc: 0.99 - ETA: 9s - loss: 0.0281 - acc: 0.9922 - ETA: 9s - loss: 0.0275 - acc: 0.992 - ETA: 8s - loss: 0.0276 - acc: 0.992 - ETA: 8s - loss: 0.0306 - acc: 0.991 - ETA: 8s - loss: 0.0303 - acc: 0.992 - ETA: 7s - loss: 0.0304 - acc: 0.992 - ETA: 7s - loss: 0.0319 - acc: 0.990 - ETA: 6s - loss: 0.0320 - acc: 0.990 - ETA: 6s - loss: 0.0312 - acc: 0.990 - ETA: 6s - loss: 0.0314 - acc: 0.990 - ETA: 5s - loss: 0.0311 - acc: 0.991 - ETA: 5s - loss: 0.0304 - acc: 0.991 - ETA: 4s - loss: 0.0298 - acc: 0.991 - ETA: 4s - loss: 0.0319 - acc: 0.990 - ETA: 3s - loss: 0.0317 - acc: 0.990 - ETA: 3s - loss: 0.0313 - acc: 0.990 - ETA: 3s - loss: 0.0309 - acc: 0.990 - ETA: 2s - loss: 0.0315 - acc: 0.990 - ETA: 2s - loss: 0.0318 - acc: 0.989 - ETA: 1s - loss: 0.0314 - acc: 0.990 - ETA: 1s - loss: 0.0310 - acc: 0.990 - ETA: 1s - loss: 0.0305 - acc: 0.990 - ETA: 0s - loss: 0.0304 - acc: 0.990 - ETA: 0s - loss: 0.0301 - acc: 0.990 - 22s 13ms/sample - loss: 0.0298 - acc: 0.9909 - val_loss: 1.4440 - val_acc: 0.7198\n",
      "Epoch 10/10\n",
      "1652/1652 [==============================] - ETA: 21s - loss: 0.0096 - acc: 1.00 - ETA: 20s - loss: 0.0080 - acc: 1.00 - ETA: 19s - loss: 0.0133 - acc: 0.98 - ETA: 19s - loss: 0.0116 - acc: 0.99 - ETA: 19s - loss: 0.0096 - acc: 0.99 - ETA: 18s - loss: 0.0107 - acc: 0.99 - ETA: 18s - loss: 0.0094 - acc: 0.99 - ETA: 17s - loss: 0.0113 - acc: 0.99 - ETA: 17s - loss: 0.0128 - acc: 0.99 - ETA: 17s - loss: 0.0121 - acc: 0.99 - ETA: 16s - loss: 0.0114 - acc: 0.99 - ETA: 16s - loss: 0.0109 - acc: 0.99 - ETA: 15s - loss: 0.0117 - acc: 0.99 - ETA: 15s - loss: 0.0116 - acc: 0.99 - ETA: 15s - loss: 0.0113 - acc: 0.99 - ETA: 14s - loss: 0.0129 - acc: 0.99 - ETA: 14s - loss: 0.0146 - acc: 0.99 - ETA: 13s - loss: 0.0140 - acc: 0.99 - ETA: 13s - loss: 0.0133 - acc: 0.99 - ETA: 13s - loss: 0.0137 - acc: 0.99 - ETA: 12s - loss: 0.0132 - acc: 0.99 - ETA: 12s - loss: 0.0129 - acc: 0.99 - ETA: 11s - loss: 0.0154 - acc: 0.99 - ETA: 11s - loss: 0.0153 - acc: 0.99 - ETA: 11s - loss: 0.0154 - acc: 0.99 - ETA: 10s - loss: 0.0152 - acc: 0.99 - ETA: 10s - loss: 0.0187 - acc: 0.99 - ETA: 9s - loss: 0.0181 - acc: 0.9944 - ETA: 9s - loss: 0.0175 - acc: 0.994 - ETA: 9s - loss: 0.0171 - acc: 0.994 - ETA: 8s - loss: 0.0168 - acc: 0.995 - ETA: 8s - loss: 0.0164 - acc: 0.995 - ETA: 7s - loss: 0.0162 - acc: 0.995 - ETA: 7s - loss: 0.0183 - acc: 0.993 - ETA: 6s - loss: 0.0186 - acc: 0.992 - ETA: 6s - loss: 0.0191 - acc: 0.992 - ETA: 6s - loss: 0.0186 - acc: 0.992 - ETA: 5s - loss: 0.0182 - acc: 0.992 - ETA: 5s - loss: 0.0182 - acc: 0.992 - ETA: 4s - loss: 0.0179 - acc: 0.993 - ETA: 4s - loss: 0.0178 - acc: 0.993 - ETA: 4s - loss: 0.0178 - acc: 0.993 - ETA: 3s - loss: 0.0176 - acc: 0.993 - ETA: 3s - loss: 0.0176 - acc: 0.993 - ETA: 2s - loss: 0.0173 - acc: 0.993 - ETA: 2s - loss: 0.0172 - acc: 0.993 - ETA: 1s - loss: 0.0172 - acc: 0.994 - ETA: 1s - loss: 0.0192 - acc: 0.993 - ETA: 1s - loss: 0.0195 - acc: 0.993 - ETA: 0s - loss: 0.0192 - acc: 0.993 - ETA: 0s - loss: 0.0197 - acc: 0.993 - 22s 14ms/sample - loss: 0.0195 - acc: 0.9933 - val_loss: 1.6615 - val_acc: 0.7198\n"
     ]
    },
    {
     "data": {
      "text/plain": [
       "<tensorflow.python.keras.callbacks.History at 0x13fbbbfda88>"
      ]
     },
     "execution_count": 21,
     "metadata": {},
     "output_type": "execute_result"
    }
   ],
   "source": [
    "model.fit(x_train,y_train,batch_size=32, epochs=10, validation_data=(x_val,y_val),callbacks=[tensorboard, checkpoint])"
   ]
  },
  {
   "cell_type": "code",
   "execution_count": 36,
   "metadata": {},
   "outputs": [],
   "source": [
    "#F1 Score Calculattion\n",
    "y_pred=model.predict(x_test)"
   ]
  },
  {
   "cell_type": "code",
   "execution_count": 37,
   "metadata": {},
   "outputs": [],
   "source": [
    "y_pred=np.where(y_pred>0.5,1,0)"
   ]
  },
  {
   "cell_type": "code",
   "execution_count": 38,
   "metadata": {},
   "outputs": [],
   "source": [
    "y_pred=np.where(y_pred==1)"
   ]
  },
  {
   "cell_type": "code",
   "execution_count": 22,
   "metadata": {},
   "outputs": [
    {
     "name": "stdout",
     "output_type": "stream",
     "text": [
      "0.9123543709\n"
     ]
    }
   ],
   "source": [
    "f1_score(y_test,y_pred[1])"
   ]
  },
  {
   "cell_type": "code",
   "execution_count": null,
   "metadata": {},
   "outputs": [],
   "source": []
  }
 ],
 "metadata": {
  "kernelspec": {
   "display_name": "Python 3",
   "language": "python",
   "name": "python3"
  },
  "language_info": {
   "codemirror_mode": {
    "name": "ipython",
    "version": 3
   },
   "file_extension": ".py",
   "mimetype": "text/x-python",
   "name": "python",
   "nbconvert_exporter": "python",
   "pygments_lexer": "ipython3",
   "version": "3.7.6"
  }
 },
 "nbformat": 4,
 "nbformat_minor": 4
}
